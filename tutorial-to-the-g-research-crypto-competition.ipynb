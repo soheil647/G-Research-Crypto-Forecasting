{
 "cells": [
  {
   "cell_type": "markdown",
   "id": "28b2b142",
   "metadata": {
    "id": "8PNZS8gF3CVN",
    "papermill": {
     "duration": 0.051896,
     "end_time": "2021-11-03T15:01:54.313154",
     "exception": false,
     "start_time": "2021-11-03T15:01:54.261258",
     "status": "completed"
    },
    "tags": []
   },
   "source": [
    "# **Crypto forecasting tutorial**"
   ]
  },
  {
   "cell_type": "markdown",
   "id": "f47491c7",
   "metadata": {
    "id": "DO0FyA3q6rTl",
    "papermill": {
     "duration": 0.041015,
     "end_time": "2021-11-03T15:01:54.396373",
     "exception": false,
     "start_time": "2021-11-03T15:01:54.355358",
     "status": "completed"
    },
    "tags": []
   },
   "source": [
    "# G-Research Crypto forecasting competition\n",
    "\n",
    "In the [G-Research Crypto forecasting competition](link), participants have the challenge to predict  price returns across a bundle of major cryptocurrencies. To facilitate your participation, we have created this tutorial notebook covering some relevant concepts for the crypto forecasting challenge.\n",
    "\n",
    "The notebook presents an introduction to crypto forecasting, describing the structure and elements of the dataset, some relevant statistical properties, as well as building a couple of ML baseline models and providing an example code submission.\n",
    "\n"
   ]
  },
  {
   "cell_type": "markdown",
   "id": "b77b582b",
   "metadata": {
    "id": "x3HpXt5v-ko4",
    "papermill": {
     "duration": 0.040345,
     "end_time": "2021-11-03T15:01:54.477442",
     "exception": false,
     "start_time": "2021-11-03T15:01:54.437097",
     "status": "completed"
    },
    "tags": []
   },
   "source": [
    "## The Cryptocurrency Market\n",
    "\n",
    "First, a quick introduction to the crypto world. Cryptocurrencies have become an extremely popular and volatile market, delivering massive returns (as well as losses) to investors. Thousands of cryptocurrencies have been created with a few major ones that many of you will have heard of including Bitcoin (BTC), Ether (ETH) or Dogecoin (DOGE).\n",
    "\n",
    "Cryptocurrencies are traded extensively across crypto-exchanges, with an average volume of $41 billion traded daily over the last year, according to CryptoCompare (as of 25th July 2021). \n",
    "\n",
    "Changes in prices between different cryptocurrencies are highly interconnected. For example, Bitcoin has historically been a major driver of price changes across cryptocurrencies but other coins also impact the market.  \n"
   ]
  },
  {
   "cell_type": "markdown",
   "id": "cb8f664f",
   "metadata": {
    "id": "fDAWC9JNZITK",
    "papermill": {
     "duration": 0.040113,
     "end_time": "2021-11-03T15:01:54.561056",
     "exception": false,
     "start_time": "2021-11-03T15:01:54.520943",
     "status": "completed"
    },
    "tags": []
   },
   "source": [
    "\n",
    "## Forecasting returns\n",
    "\n",
    "A fundamental task in financial modeling is predicting how prices will behave in the near future. Using the time-series of historical prices as training data, we want to predict if prices will go up or down, and by how much, namely the asset *returns*.\n",
    "\n",
    "In this competition, Kagglers are challenged to build machine learning models to predict the returns of 14 popular cryptocurrencies, in the time scale of minutes to hours. You will have access to millions of rows of minute-by-minute cryptocurrency trading data, with which you'll design your forecasting models for all 14 assets simultaneously. Your predictions will be evaluated by how much they correlate with real market data collected during the three-month evaluation period after the competition has closed. \n",
    "\n",
    "Cryptocurrency returns prediction remains an open and extremely challenging forecasting task. This is a fascinating problem domain for the ML community given the extreme volatility of the assets, the non-stationary nature of the data, the market and meme manipulation, the correlation between assets and the very fast changing market conditions. We hope you find it as fascinating as we do! \n"
   ]
  },
  {
   "cell_type": "markdown",
   "id": "3a8287a8",
   "metadata": {
    "id": "4e6OA0qc6x9h",
    "papermill": {
     "duration": 0.040551,
     "end_time": "2021-11-03T15:01:54.642187",
     "exception": false,
     "start_time": "2021-11-03T15:01:54.601636",
     "status": "completed"
    },
    "tags": []
   },
   "source": [
    "# Dataset description\n",
    "\n",
    "Now, let's dive into the data! We start by loading the competition's dataset and inspecting its basic properties. "
   ]
  },
  {
   "cell_type": "markdown",
   "id": "884a9f64",
   "metadata": {
    "id": "OevdFjmtar0j",
    "papermill": {
     "duration": 0.040368,
     "end_time": "2021-11-03T15:01:54.723249",
     "exception": false,
     "start_time": "2021-11-03T15:01:54.682881",
     "status": "completed"
    },
    "tags": []
   },
   "source": [
    "## Load the training set"
   ]
  },
  {
   "cell_type": "code",
   "execution_count": 1,
   "id": "e2699b70",
   "metadata": {
    "execution": {
     "iopub.execute_input": "2021-11-03T15:01:54.820310Z",
     "iopub.status.busy": "2021-11-03T15:01:54.819376Z",
     "iopub.status.idle": "2021-11-03T15:01:54.823178Z",
     "shell.execute_reply": "2021-11-03T15:01:54.823723Z",
     "shell.execute_reply.started": "2021-11-02T15:58:01.774218Z"
    },
    "id": "90fqnpNQ2wd8",
    "papermill": {
     "duration": 0.060012,
     "end_time": "2021-11-03T15:01:54.824019",
     "exception": false,
     "start_time": "2021-11-03T15:01:54.764007",
     "status": "completed"
    },
    "tags": []
   },
   "outputs": [],
   "source": [
    "import pandas as pd\n",
    "import numpy as np\n",
    "from datetime import datetime"
   ]
  },
  {
   "cell_type": "code",
   "execution_count": 2,
   "id": "1253af7a",
   "metadata": {
    "execution": {
     "iopub.execute_input": "2021-11-03T15:01:54.912098Z",
     "iopub.status.busy": "2021-11-03T15:01:54.911359Z",
     "iopub.status.idle": "2021-11-03T15:01:55.684222Z",
     "shell.execute_reply": "2021-11-03T15:01:55.684895Z",
     "shell.execute_reply.started": "2021-11-02T15:58:01.802717Z"
    },
    "id": "Zw_oi4NETkKv",
    "outputId": "e6fe292d-721e-4c6a-bc70-9026cfd5b915",
    "papermill": {
     "duration": 0.819175,
     "end_time": "2021-11-03T15:01:55.685093",
     "exception": false,
     "start_time": "2021-11-03T15:01:54.865918",
     "status": "completed"
    },
    "tags": []
   },
   "outputs": [
    {
     "name": "stdout",
     "output_type": "stream",
     "text": [
      "asset_details.csv\t       example_test.csv  supplemental_train.csv\r\n",
      "example_sample_submission.csv  gresearch_crypto  train.csv\r\n"
     ]
    }
   ],
   "source": [
    "data_folder = \"../input/g-research-crypto-forecasting/\"\n",
    "!ls $data_folder"
   ]
  },
  {
   "cell_type": "code",
   "execution_count": 3,
   "id": "5c092a40",
   "metadata": {
    "execution": {
     "iopub.execute_input": "2021-11-03T15:01:55.838442Z",
     "iopub.status.busy": "2021-11-03T15:01:55.837696Z",
     "iopub.status.idle": "2021-11-03T15:02:55.952620Z",
     "shell.execute_reply": "2021-11-03T15:02:55.951933Z",
     "shell.execute_reply.started": "2021-11-02T15:58:02.569996Z"
    },
    "id": "La0-ivRAUopA",
    "papermill": {
     "duration": 60.163316,
     "end_time": "2021-11-03T15:02:55.952809",
     "exception": false,
     "start_time": "2021-11-03T15:01:55.789493",
     "status": "completed"
    },
    "scrolled": true,
    "tags": []
   },
   "outputs": [],
   "source": [
    "crypto_df = pd.read_csv(data_folder + 'train.csv')"
   ]
  },
  {
   "cell_type": "code",
   "execution_count": 4,
   "id": "f0674459",
   "metadata": {
    "execution": {
     "iopub.execute_input": "2021-11-03T15:02:56.039626Z",
     "iopub.status.busy": "2021-11-03T15:02:56.038617Z",
     "iopub.status.idle": "2021-11-03T15:02:56.068359Z",
     "shell.execute_reply": "2021-11-03T15:02:56.068890Z",
     "shell.execute_reply.started": "2021-11-02T15:59:01.170389Z"
    },
    "id": "14ZSPE6daadW",
    "outputId": "b6a4f262-4071-4c2f-dd42-12a253452297",
    "papermill": {
     "duration": 0.074982,
     "end_time": "2021-11-03T15:02:56.069060",
     "exception": false,
     "start_time": "2021-11-03T15:02:55.994078",
     "status": "completed"
    },
    "tags": []
   },
   "outputs": [
    {
     "data": {
      "text/html": [
       "<div>\n",
       "<style scoped>\n",
       "    .dataframe tbody tr th:only-of-type {\n",
       "        vertical-align: middle;\n",
       "    }\n",
       "\n",
       "    .dataframe tbody tr th {\n",
       "        vertical-align: top;\n",
       "    }\n",
       "\n",
       "    .dataframe thead th {\n",
       "        text-align: right;\n",
       "    }\n",
       "</style>\n",
       "<table border=\"1\" class=\"dataframe\">\n",
       "  <thead>\n",
       "    <tr style=\"text-align: right;\">\n",
       "      <th></th>\n",
       "      <th>timestamp</th>\n",
       "      <th>Asset_ID</th>\n",
       "      <th>Count</th>\n",
       "      <th>Open</th>\n",
       "      <th>High</th>\n",
       "      <th>Low</th>\n",
       "      <th>Close</th>\n",
       "      <th>Volume</th>\n",
       "      <th>VWAP</th>\n",
       "      <th>Target</th>\n",
       "    </tr>\n",
       "  </thead>\n",
       "  <tbody>\n",
       "    <tr>\n",
       "      <th>0</th>\n",
       "      <td>1514764860</td>\n",
       "      <td>2</td>\n",
       "      <td>40.0</td>\n",
       "      <td>2376.580000</td>\n",
       "      <td>2399.5000</td>\n",
       "      <td>2357.1400</td>\n",
       "      <td>2374.590000</td>\n",
       "      <td>19.233005</td>\n",
       "      <td>2373.116392</td>\n",
       "      <td>-0.004218</td>\n",
       "    </tr>\n",
       "    <tr>\n",
       "      <th>1</th>\n",
       "      <td>1514764860</td>\n",
       "      <td>0</td>\n",
       "      <td>5.0</td>\n",
       "      <td>8.530000</td>\n",
       "      <td>8.5300</td>\n",
       "      <td>8.5300</td>\n",
       "      <td>8.530000</td>\n",
       "      <td>78.380000</td>\n",
       "      <td>8.530000</td>\n",
       "      <td>-0.014399</td>\n",
       "    </tr>\n",
       "    <tr>\n",
       "      <th>2</th>\n",
       "      <td>1514764860</td>\n",
       "      <td>1</td>\n",
       "      <td>229.0</td>\n",
       "      <td>13835.194000</td>\n",
       "      <td>14013.8000</td>\n",
       "      <td>13666.1100</td>\n",
       "      <td>13850.176000</td>\n",
       "      <td>31.550062</td>\n",
       "      <td>13827.062093</td>\n",
       "      <td>-0.014643</td>\n",
       "    </tr>\n",
       "    <tr>\n",
       "      <th>3</th>\n",
       "      <td>1514764860</td>\n",
       "      <td>5</td>\n",
       "      <td>32.0</td>\n",
       "      <td>7.659600</td>\n",
       "      <td>7.6596</td>\n",
       "      <td>7.6567</td>\n",
       "      <td>7.657600</td>\n",
       "      <td>6626.713370</td>\n",
       "      <td>7.657713</td>\n",
       "      <td>-0.013922</td>\n",
       "    </tr>\n",
       "    <tr>\n",
       "      <th>4</th>\n",
       "      <td>1514764860</td>\n",
       "      <td>7</td>\n",
       "      <td>5.0</td>\n",
       "      <td>25.920000</td>\n",
       "      <td>25.9200</td>\n",
       "      <td>25.8740</td>\n",
       "      <td>25.877000</td>\n",
       "      <td>121.087310</td>\n",
       "      <td>25.891363</td>\n",
       "      <td>-0.008264</td>\n",
       "    </tr>\n",
       "    <tr>\n",
       "      <th>5</th>\n",
       "      <td>1514764860</td>\n",
       "      <td>6</td>\n",
       "      <td>173.0</td>\n",
       "      <td>738.302500</td>\n",
       "      <td>746.0000</td>\n",
       "      <td>732.5100</td>\n",
       "      <td>738.507500</td>\n",
       "      <td>335.987856</td>\n",
       "      <td>738.839291</td>\n",
       "      <td>-0.004809</td>\n",
       "    </tr>\n",
       "    <tr>\n",
       "      <th>6</th>\n",
       "      <td>1514764860</td>\n",
       "      <td>9</td>\n",
       "      <td>167.0</td>\n",
       "      <td>225.330000</td>\n",
       "      <td>227.7800</td>\n",
       "      <td>222.9800</td>\n",
       "      <td>225.206667</td>\n",
       "      <td>411.896642</td>\n",
       "      <td>225.197944</td>\n",
       "      <td>-0.009791</td>\n",
       "    </tr>\n",
       "    <tr>\n",
       "      <th>7</th>\n",
       "      <td>1514764860</td>\n",
       "      <td>11</td>\n",
       "      <td>7.0</td>\n",
       "      <td>329.090000</td>\n",
       "      <td>329.8800</td>\n",
       "      <td>329.0900</td>\n",
       "      <td>329.460000</td>\n",
       "      <td>6.635710</td>\n",
       "      <td>329.454118</td>\n",
       "      <td>NaN</td>\n",
       "    </tr>\n",
       "    <tr>\n",
       "      <th>8</th>\n",
       "      <td>1514764920</td>\n",
       "      <td>2</td>\n",
       "      <td>53.0</td>\n",
       "      <td>2374.553333</td>\n",
       "      <td>2400.9000</td>\n",
       "      <td>2354.2000</td>\n",
       "      <td>2372.286667</td>\n",
       "      <td>24.050259</td>\n",
       "      <td>2371.434498</td>\n",
       "      <td>-0.004079</td>\n",
       "    </tr>\n",
       "    <tr>\n",
       "      <th>9</th>\n",
       "      <td>1514764920</td>\n",
       "      <td>0</td>\n",
       "      <td>7.0</td>\n",
       "      <td>8.530000</td>\n",
       "      <td>8.5300</td>\n",
       "      <td>8.5145</td>\n",
       "      <td>8.514500</td>\n",
       "      <td>71.390000</td>\n",
       "      <td>8.520215</td>\n",
       "      <td>-0.015875</td>\n",
       "    </tr>\n",
       "  </tbody>\n",
       "</table>\n",
       "</div>"
      ],
      "text/plain": [
       "    timestamp  Asset_ID  Count          Open        High         Low  \\\n",
       "0  1514764860         2   40.0   2376.580000   2399.5000   2357.1400   \n",
       "1  1514764860         0    5.0      8.530000      8.5300      8.5300   \n",
       "2  1514764860         1  229.0  13835.194000  14013.8000  13666.1100   \n",
       "3  1514764860         5   32.0      7.659600      7.6596      7.6567   \n",
       "4  1514764860         7    5.0     25.920000     25.9200     25.8740   \n",
       "5  1514764860         6  173.0    738.302500    746.0000    732.5100   \n",
       "6  1514764860         9  167.0    225.330000    227.7800    222.9800   \n",
       "7  1514764860        11    7.0    329.090000    329.8800    329.0900   \n",
       "8  1514764920         2   53.0   2374.553333   2400.9000   2354.2000   \n",
       "9  1514764920         0    7.0      8.530000      8.5300      8.5145   \n",
       "\n",
       "          Close       Volume          VWAP    Target  \n",
       "0   2374.590000    19.233005   2373.116392 -0.004218  \n",
       "1      8.530000    78.380000      8.530000 -0.014399  \n",
       "2  13850.176000    31.550062  13827.062093 -0.014643  \n",
       "3      7.657600  6626.713370      7.657713 -0.013922  \n",
       "4     25.877000   121.087310     25.891363 -0.008264  \n",
       "5    738.507500   335.987856    738.839291 -0.004809  \n",
       "6    225.206667   411.896642    225.197944 -0.009791  \n",
       "7    329.460000     6.635710    329.454118       NaN  \n",
       "8   2372.286667    24.050259   2371.434498 -0.004079  \n",
       "9      8.514500    71.390000      8.520215 -0.015875  "
      ]
     },
     "execution_count": 4,
     "metadata": {},
     "output_type": "execute_result"
    }
   ],
   "source": [
    "crypto_df.head(10)"
   ]
  },
  {
   "cell_type": "markdown",
   "id": "b1026407",
   "metadata": {
    "id": "ZUPxDsW8bCh1",
    "papermill": {
     "duration": 0.041195,
     "end_time": "2021-11-03T15:02:56.152427",
     "exception": false,
     "start_time": "2021-11-03T15:02:56.111232",
     "status": "completed"
    },
    "tags": []
   },
   "source": [
    "We can see that each row of the data set has the trading data for an asset, at a given minute timestamp, described in detail below. "
   ]
  },
  {
   "cell_type": "markdown",
   "id": "3dc59c3f",
   "metadata": {
    "id": "YjN-TfBUx2ml",
    "papermill": {
     "duration": 0.041459,
     "end_time": "2021-11-03T15:02:56.236014",
     "exception": false,
     "start_time": "2021-11-03T15:02:56.194555",
     "status": "completed"
    },
    "tags": []
   },
   "source": [
    "## Data features\n",
    "We can see the different features included in the dataset. Specifically, the features included per asset are the following:\n",
    "*   **timestamp**: All timestamps are returned as second Unix timestamps (the number of seconds elapsed since 1970-01-01 00:00:00.000 UTC). Timestamps in this dataset are multiple of 60, indicating minute-by-minute data.\n",
    "*   **Asset_ID**: The asset ID corresponding to one of the crytocurrencies (e.g. `Asset_ID = 1` for Bitcoin). The mapping from `Asset_ID` to crypto asset is contained in `asset_details.csv`.\n",
    "*   **Count**: Total number of trades in the time interval (last minute).\n",
    "*   **Open**:\tOpening price of the time interval (in USD).\n",
    "*   **High**:\tHighest price reached during time interval (in USD).\n",
    "*   **Low**: Lowest price reached during time interval (in USD).\n",
    "*   **Close**:\tClosing price of the time interval (in USD).\n",
    "*   **Volume**:\tQuantity of asset bought or sold, displayed in base currency USD.\n",
    "*   **VWAP**: The average price of the asset over the time interval, weighted by volume. VWAP is an aggregated form of trade data.\n",
    "*   **Target**: Residual log-returns for the asset over a 15 minute horizon. \n",
    "\n",
    "The first two columns define the time and asset indexes for this data row. The 6 middle columns are feature columns with the trading data for this asset and minute in time. The last column is the prediction target, which we will get to later in more detail.\n",
    "\n",
    "We also view the asset information, including the list of all assets, the `Asset_ID` to asset mapping, and the weight of each asset used to weigh their relative importance in the evaluation metric."
   ]
  },
  {
   "cell_type": "code",
   "execution_count": 5,
   "id": "25bc285a",
   "metadata": {
    "execution": {
     "iopub.execute_input": "2021-11-03T15:02:56.323388Z",
     "iopub.status.busy": "2021-11-03T15:02:56.322390Z",
     "iopub.status.idle": "2021-11-03T15:02:56.339257Z",
     "shell.execute_reply": "2021-11-03T15:02:56.339850Z",
     "shell.execute_reply.started": "2021-11-02T15:59:01.204787Z"
    },
    "papermill": {
     "duration": 0.062455,
     "end_time": "2021-11-03T15:02:56.340019",
     "exception": false,
     "start_time": "2021-11-03T15:02:56.277564",
     "status": "completed"
    },
    "tags": []
   },
   "outputs": [
    {
     "data": {
      "text/html": [
       "<div>\n",
       "<style scoped>\n",
       "    .dataframe tbody tr th:only-of-type {\n",
       "        vertical-align: middle;\n",
       "    }\n",
       "\n",
       "    .dataframe tbody tr th {\n",
       "        vertical-align: top;\n",
       "    }\n",
       "\n",
       "    .dataframe thead th {\n",
       "        text-align: right;\n",
       "    }\n",
       "</style>\n",
       "<table border=\"1\" class=\"dataframe\">\n",
       "  <thead>\n",
       "    <tr style=\"text-align: right;\">\n",
       "      <th></th>\n",
       "      <th>Asset_ID</th>\n",
       "      <th>Weight</th>\n",
       "      <th>Asset_Name</th>\n",
       "    </tr>\n",
       "  </thead>\n",
       "  <tbody>\n",
       "    <tr>\n",
       "      <th>0</th>\n",
       "      <td>2</td>\n",
       "      <td>2.397895</td>\n",
       "      <td>Bitcoin Cash</td>\n",
       "    </tr>\n",
       "    <tr>\n",
       "      <th>1</th>\n",
       "      <td>0</td>\n",
       "      <td>4.304065</td>\n",
       "      <td>Binance Coin</td>\n",
       "    </tr>\n",
       "    <tr>\n",
       "      <th>2</th>\n",
       "      <td>1</td>\n",
       "      <td>6.779922</td>\n",
       "      <td>Bitcoin</td>\n",
       "    </tr>\n",
       "    <tr>\n",
       "      <th>3</th>\n",
       "      <td>5</td>\n",
       "      <td>1.386294</td>\n",
       "      <td>EOS.IO</td>\n",
       "    </tr>\n",
       "    <tr>\n",
       "      <th>4</th>\n",
       "      <td>7</td>\n",
       "      <td>2.079442</td>\n",
       "      <td>Ethereum Classic</td>\n",
       "    </tr>\n",
       "    <tr>\n",
       "      <th>5</th>\n",
       "      <td>6</td>\n",
       "      <td>5.894403</td>\n",
       "      <td>Ethereum</td>\n",
       "    </tr>\n",
       "    <tr>\n",
       "      <th>6</th>\n",
       "      <td>9</td>\n",
       "      <td>2.397895</td>\n",
       "      <td>Litecoin</td>\n",
       "    </tr>\n",
       "    <tr>\n",
       "      <th>7</th>\n",
       "      <td>11</td>\n",
       "      <td>1.609438</td>\n",
       "      <td>Monero</td>\n",
       "    </tr>\n",
       "    <tr>\n",
       "      <th>8</th>\n",
       "      <td>13</td>\n",
       "      <td>1.791759</td>\n",
       "      <td>TRON</td>\n",
       "    </tr>\n",
       "    <tr>\n",
       "      <th>9</th>\n",
       "      <td>12</td>\n",
       "      <td>2.079442</td>\n",
       "      <td>Stellar</td>\n",
       "    </tr>\n",
       "    <tr>\n",
       "      <th>10</th>\n",
       "      <td>3</td>\n",
       "      <td>4.406719</td>\n",
       "      <td>Cardano</td>\n",
       "    </tr>\n",
       "    <tr>\n",
       "      <th>11</th>\n",
       "      <td>8</td>\n",
       "      <td>1.098612</td>\n",
       "      <td>IOTA</td>\n",
       "    </tr>\n",
       "    <tr>\n",
       "      <th>12</th>\n",
       "      <td>10</td>\n",
       "      <td>1.098612</td>\n",
       "      <td>Maker</td>\n",
       "    </tr>\n",
       "    <tr>\n",
       "      <th>13</th>\n",
       "      <td>4</td>\n",
       "      <td>3.555348</td>\n",
       "      <td>Dogecoin</td>\n",
       "    </tr>\n",
       "  </tbody>\n",
       "</table>\n",
       "</div>"
      ],
      "text/plain": [
       "    Asset_ID    Weight        Asset_Name\n",
       "0          2  2.397895      Bitcoin Cash\n",
       "1          0  4.304065      Binance Coin\n",
       "2          1  6.779922           Bitcoin\n",
       "3          5  1.386294            EOS.IO\n",
       "4          7  2.079442  Ethereum Classic\n",
       "5          6  5.894403          Ethereum\n",
       "6          9  2.397895          Litecoin\n",
       "7         11  1.609438            Monero\n",
       "8         13  1.791759              TRON\n",
       "9         12  2.079442           Stellar\n",
       "10         3  4.406719           Cardano\n",
       "11         8  1.098612              IOTA\n",
       "12        10  1.098612             Maker\n",
       "13         4  3.555348          Dogecoin"
      ]
     },
     "execution_count": 5,
     "metadata": {},
     "output_type": "execute_result"
    }
   ],
   "source": [
    "asset_details = pd.read_csv(data_folder + 'asset_details.csv')\n",
    "asset_details"
   ]
  },
  {
   "cell_type": "markdown",
   "id": "9b7ceec9",
   "metadata": {
    "id": "QNWAfs_O0hyf",
    "papermill": {
     "duration": 0.04171,
     "end_time": "2021-11-03T15:02:56.424053",
     "exception": false,
     "start_time": "2021-11-03T15:02:56.382343",
     "status": "completed"
    },
    "tags": []
   },
   "source": [
    "## Candlestick charts\n",
    "\n",
    "The trading data format is an aggregated form of market data including for Open, High, Low and Close. We can visualize this data through the commonly used candlestick bar chart, which allows traders to perform technical analysis on intraday values. The bar's body length represents the price range between the open and close of that day's trading. When the bar is red, it means the close was lower than the open, and green otherwise. These are also referred to as bullish and bearish candlesticks. The wicks above and below the bars show the high and low prices of that interval's trading."
   ]
  },
  {
   "cell_type": "markdown",
   "id": "8084b181",
   "metadata": {
    "id": "570DeXQa0skY",
    "papermill": {
     "duration": 0.041595,
     "end_time": "2021-11-03T15:02:56.507715",
     "exception": false,
     "start_time": "2021-11-03T15:02:56.466120",
     "status": "completed"
    },
    "tags": []
   },
   "source": [
    "We can visualize a slice of the Bitcoin prices using the `plotly` library. The bottom part of the plot shows a rangeslider, which you can use to zoom in the plot."
   ]
  },
  {
   "cell_type": "code",
   "execution_count": 6,
   "id": "332d0f09",
   "metadata": {
    "execution": {
     "iopub.execute_input": "2021-11-03T15:02:56.600594Z",
     "iopub.status.busy": "2021-11-03T15:02:56.599874Z",
     "iopub.status.idle": "2021-11-03T15:02:56.885065Z",
     "shell.execute_reply": "2021-11-03T15:02:56.885892Z",
     "shell.execute_reply.started": "2021-11-02T15:59:01.228282Z"
    },
    "id": "tMxYx8ZO3fuy",
    "papermill": {
     "duration": 0.336227,
     "end_time": "2021-11-03T15:02:56.886101",
     "exception": false,
     "start_time": "2021-11-03T15:02:56.549874",
     "status": "completed"
    },
    "tags": []
   },
   "outputs": [],
   "source": [
    "btc = crypto_df[crypto_df[\"Asset_ID\"]==1].set_index(\"timestamp\") # Asset_ID = 1 for Bitcoin\n",
    "btc_mini = btc.iloc[-200:] # Select recent data rows"
   ]
  },
  {
   "cell_type": "code",
   "execution_count": 7,
   "id": "e2579a0f",
   "metadata": {
    "execution": {
     "iopub.execute_input": "2021-11-03T15:02:56.975072Z",
     "iopub.status.busy": "2021-11-03T15:02:56.974042Z",
     "iopub.status.idle": "2021-11-03T15:02:57.106103Z",
     "shell.execute_reply": "2021-11-03T15:02:57.106633Z",
     "shell.execute_reply.started": "2021-11-02T15:59:01.795148Z"
    },
    "id": "HCiq4HwD4ySs",
    "outputId": "1d422d61-2382-41f0-ba2d-ca42946ae928",
    "papermill": {
     "duration": 0.178258,
     "end_time": "2021-11-03T15:02:57.106856",
     "exception": false,
     "start_time": "2021-11-03T15:02:56.928598",
     "status": "completed"
    },
    "tags": []
   },
   "outputs": [
    {
     "data": {
      "text/html": [
       "        <script type=\"text/javascript\">\n",
       "        window.PlotlyConfig = {MathJaxConfig: 'local'};\n",
       "        if (window.MathJax) {MathJax.Hub.Config({SVG: {font: \"STIX-Web\"}});}\n",
       "        if (typeof require !== 'undefined') {\n",
       "        require.undef(\"plotly\");\n",
       "        requirejs.config({\n",
       "            paths: {\n",
       "                'plotly': ['https://cdn.plot.ly/plotly-2.4.2.min']\n",
       "            }\n",
       "        });\n",
       "        require(['plotly'], function(Plotly) {\n",
       "            window._Plotly = Plotly;\n",
       "        });\n",
       "        }\n",
       "        </script>\n",
       "        "
      ]
     },
     "metadata": {},
     "output_type": "display_data"
    },
    {
     "data": {
      "text/html": [
       "<div>                            <div id=\"f37957cf-3976-4fa6-8512-bf1d69057b0e\" class=\"plotly-graph-div\" style=\"height:525px; width:100%;\"></div>            <script type=\"text/javascript\">                require([\"plotly\"], function(Plotly) {                    window.PLOTLYENV=window.PLOTLYENV || {};                                    if (document.getElementById(\"f37957cf-3976-4fa6-8512-bf1d69057b0e\")) {                    Plotly.newPlot(                        \"f37957cf-3976-4fa6-8512-bf1d69057b0e\",                        [{\"close\":[43447.00375,43440.0,43360.72375,43427.24285714286,43375.04,43391.2775,43328.33142857143,43333.292857142864,43272.20571428572,43302.26142857143,43237.22857142857,43293.438571428575,43335.397142857146,43329.36,43315.57857142857,43358.98,43401.56125,43496.01714285714,43543.944285714286,43735.24749999998,43635.8,43565.93714285714,43445.9742505125,43582.882500000014,43509.89375,43583.13375,43620.45625000002,43683.955,43688.792857142864,43748.37285714286,43733.61857142858,43770.91142857143,43725.21247342,43699.93519433285,43681.41125,43663.37142857142,43674.12714285714,43735.2968762825,43761.40857142857,43804.98142857143,43748.64871729857,43754.64400535857,43761.9313146925,43745.054649555714,43749.41395637714,43704.05428571429,43754.37857142858,43752.16000000002,43752.56428571429,43742.16285714285,43722.25010413143,43698.399835418575,43678.80153424286,43688.29428571429,43673.78428571428,43674.93714285714,43696.93209772,43696.218571428566,43688.90142857142,43680.15714285715,43699.02571428572,43731.86428571429,43747.49428571429,43762.66571428572,43851.00774273375,43796.60571428571,43767.107142857145,43685.150000000016,43691.55,43724.642857142855,43737.69285714287,43651.975714285705,43596.42285714286,43623.89428571428,43635.89571428572,43561.85142857144,43536.07792585572,43480.374285714286,43514.82,43608.34571428572,43568.90142857143,43554.05285714286,43631.01714285714,43631.90714285714,43537.49,43597.75303396001,43648.514285714286,43697.334285714285,43707.43,43726.24681658715,43765.792857142864,43715.65571428572,43715.125714285714,43710.31428571429,43731.00625,43770.145714285725,43814.85571428571,43816.27125000001,43806.570000000014,43806.79142857143,43770.66857142857,43799.1,43833.474285714285,43811.704285714295,43843.44,43832.01571428571,43786.38571428572,43769.188571428575,43774.467142857146,43796.19,43797.20571428572,43798.15714285714,43804.61142857144,43831.59142857143,43871.69625,43897.16857142858,43901.38285714285,43883.25895342144,43862.52,43894.77857142857,43866.73499999999,43845.84857142857,43823.298571428575,43752.76714285714,43703.374285714286,43669.07857142857,43642.77285714285,43615.38,43504.42428571429,43367.88571428572,43316.7225,43295.04428571429,43250.16571428572,43075.9025,43232.90125,43259.1575,43293.7075,43305.09857142857,43327.79,43356.28068103,43344.55857142858,43484.61375,43580.82375,43470.794999999984,43198.788571428566,43213.69,43269.54714285715,43239.26125,43114.23614144125,43067.63,43060.81,42991.2775,42989.62375,43219.33125,43140.19135458125,43198.24000000001,43110.797500000015,43157.72298172143,43099.1575,43051.08285714287,42966.91285714286,43009.43142857143,42880.67875,42822.040000000015,42699.178750000014,42778.885,42779.71,42700.44625,42659.58241635572,42600.39625,42624.279999999984,42577.0,42679.60625,42678.21816655625,42762.514285714286,42825.295,42736.6525,42769.39571428571,42637.115,42703.63625,42781.97057111125,42755.5925,42717.23428571428,42657.20249999999,42678.72142857143,42778.29125,42790.17571428571,42731.73142857143,42898.565,42939.64571428572,42927.167142857135,42979.83375,42960.60142857144,42985.48285714286,42985.21482412572,42899.01285714287,42860.00571428572,42827.02,43017.277142857136,43002.505],\"high\":[43588.68,43495.95402838,43455.2184781,43454.99,43467.0,43405.0,43407.7,43350.0,43344.99,43315.99,43317.0,43318.8,43353.43,43363.82,43341.56,43372.8,43436.99,43512.7,43581.88,43750.27,43749.6,43636.4,43587.1,43609.1,43617.0,43611.11,43634.01,43715.6675949,43707.74,43763.7,43766.35,43798.21,43780.0,43726.0,43731.0,43702.91,43684.24,43773.35,43784.1,43818.17,43810.0,43766.0,43790.0,43774.0,43760.01,43763.66,43773.4,43768.62,43776.0,43768.53,43750.0,43746.7,43708.0,43701.5,43701.5,43689.0,43716.49468404,43709.0,43703.62,43723.37,43708.47,43754.58,43757.98,43776.38,43882.75,43913.83,43813.0,43788.8,43704.19,43738.0,43746.19,43747.0,43672.0,43639.5,43651.0,43647.45,43582.0,43550.99,43524.0,43618.15,43652.3,43587.51,43654.6,43682.6,43646.0,43614.93123772,43660.09,43708.05,43744.4,43776.1,43785.75,43779.05,43756.0,43782.7,43777.2,43782.74,43830.0,43835.6,43835.5,43833.6,43867.04,43805.3,43861.08,43848.1,43860.78,43866.41,43840.14,43808.31,43800.0,43812.4,43818.6,43818.4,43821.1,43840.7,43910.99,43912.1,43940.0,43912.0,43908.5,43906.71,43906.73,43874.98,43851.4,43843.87,43782.1,43721.3,43699.8,43679.99,43633.3,43560.02,43417.91,43354.59,43359.44,43259.3,43281.0,43301.61947119,43320.02,43348.22,43366.0,43391.85,43376.0,43546.61,43640.0,43627.0,43455.0,43276.57,43366.0,43288.47,43287.5,43133.15,43099.98,43072.2,43069.67,43289.9,43350.5,43229.1,43247.5,43193.54,43172.9,43122.0,43082.02,43029.49,43015.0,42897.0,42884.85,42836.33,42811.0,42852.0,42719.98,42779.1,42703.01,42650.0,42705.0,42802.54,42862.0,42877.82,42846.0,42833.9,42841.99,42736.9,42819.38,42827.1,42811.3,42752.0,42715.99,42810.26,42828.0,42827.7,42937.31,42966.98,42971.95,43014.98,43005.65,43008.85,43006.54,43001.85084871,42932.0,42887.5,43042.16,43048.51],\"low\":[43427.28,43414.33,43327.29,43348.06,43351.15,43280.0,43284.12,43283.74,43240.01,43261.26,43217.6,43207.55,43268.05,43278.42,43272.19,43287.88,43350.2,43387.95,43487.66,43527.56,43600.0,43538.26,43426.2,43431.57,43436.46,43476.65,43525.5,43585.4,43647.65,43676.9,43702.98,43709.75,43706.19,43683.73,43669.67,43638.92,43631.17,43662.11,43729.9,43730.0,43732.41,43725.22,43739.3,43722.3,43717.71,43686.54,43695.18,43733.8,43729.06,43730.17,43705.92,43691.2,43665.84,43657.79,43663.42,43658.2,43663.48,43669.1,43669.1,43659.05,43669.2,43677.4,43718.9,43742.1,43754.67,43790.01,43750.89,43672.6,43669.13,43683.08,43689.3,43641.65,43584.69,43583.4,43608.15,43522.0,43504.1,43464.86,43462.56,43499.99,43548.51,43538.67,43534.0,43616.54,43521.92,43514.09,43593.43,43644.1,43682.67,43688.1,43712.74,43701.41,43700.0,43665.29,43678.37,43718.44,43758.4,43763.01,43772.0,43772.75,43741.3,43760.3,43788.96,43788.53,43780.41,43816.96,43762.7,43742.7,43750.0,43759.23,43766.7,43757.17,43782.18,43795.58,43823.74,43842.5,43875.72,43866.3,43847.0,43835.66,43850.16,43832.56,43813.11,43746.0,43687.0,43650.01,43627.29,43600.0,43499.99,43350.4,43295.74,43278.42,43221.04,43003.84,43067.0,43172.38,43172.0,43220.67,43261.3,43333.51,43283.1,43335.64,43441.56,43428.8,43172.9,43133.08,43209.9,43218.81,43062.9,43050.9,43019.49,42930.14,42967.33,42969.79,43106.01,43026.47,43092.88,43064.36,43058.56,43007.67,42898.8,42900.0,42801.0,42795.45,42659.29112887,42660.05,42651.4,42672.8,42640.0,42575.0,42579.4,42515.09,42548.09,42626.61,42660.7,42743.68,42688.55,42731.17,42600.0,42607.5,42690.84,42690.75,42694.37,42636.76,42630.17,42662.27,42742.36,42713.48,42713.48,42852.07,42899.1,42907.18,42929.74,42953.1,42958.06,42878.26,42840.16,42797.2,42818.1,42961.64],\"open\":[43558.39375,43449.81857142858,43427.0823097625,43362.572857142855,43419.8325,43368.71625,43393.847142857136,43329.654285714285,43335.71432474571,43275.938571428575,43301.834285714285,43232.93714285714,43297.98428571429,43336.64,43333.63142857143,43314.74000000001,43364.94875,43408.08714285715,43504.69050787143,43563.5475,43734.17517274572,43622.09142833857,43556.59375,43455.175,43574.825,43520.28,43576.7775,43622.23555296,43692.88857142858,43693.87714285714,43746.07428571429,43732.60428571428,43769.21714285714,43713.06428571429,43696.00375,43671.81428571429,43658.32428571429,43678.86,43747.11558816286,43763.66857142857,43801.88285714287,43743.70142857143,43760.135,43757.962857142855,43746.89571428572,43752.36571428572,43706.63459625,43754.938571428575,43751.42502128715,43747.71428571428,43741.16142857143,43718.720000000016,43697.06571428572,43678.72571428572,43687.59428571429,43674.66142857143,43674.23,43699.485714285714,43693.75714285714,43686.042857142864,43680.84285714286,43703.04380334572,43737.424990827145,43748.792857142864,43764.222193155,43867.28649138286,43796.17000235,43764.80711541429,43683.29195864715,43694.014285714286,43724.80857142858,43734.218571428566,43648.50714285714,43595.79378934143,43622.90857142857,43635.26571428571,43561.49245584857,43540.261460078575,43481.81571428572,43514.376468365714,43617.79142857143,43571.87298438429,43552.88571428572,43628.438571428575,43627.27428571428,43537.74857142858,43605.25142857143,43650.830000000016,43700.829614364295,43709.82420531143,43729.398571428566,43758.39428571429,43711.38000000001,43711.45285714285,43709.3575,43745.652857142864,43771.43571428571,43811.9775,43826.62833333333,43809.957142857136,43813.72,43780.97162221715,43805.69142857142,43832.400000000016,43801.23428571429,43846.09142857143,43828.874285714286,43786.38571428572,43771.014285714286,43774.80714285715,43798.41857142857,43794.84032981571,43807.66285714285,43807.34428571429,43836.9875,43872.08714285714,43900.88857142856,43901.008571428574,43890.30857142857,43858.474285714285,43893.88166666668,43866.00571428572,43843.235714285714,43821.555714285714,43752.37,43704.62857142857,43671.72,43644.06142857143,43610.07408044428,43504.71428571428,43365.91375,43313.70812588,43296.055714285714,43239.0175,43092.85375,43251.94250000001,43264.50125,43307.44571428571,43296.88375,43341.862857142856,43353.12,43365.74875000001,43477.0875,43588.102500000015,43447.60285714286,43205.55625,43234.95285714286,43267.83,43229.50125,43106.66925542,43064.47714285714,43054.81000000001,43002.9225,42998.535,43227.1275,43122.16,43192.76624999999,43106.25997366144,43159.91625,43085.22049047715,43049.56714285714,42972.15714285714,42979.09125000001,42873.23000000002,42815.11375,42707.930000000015,42766.4325,42775.73125,42694.57285714285,42675.71750000001,42599.647142857146,42620.29375,42577.715,42683.24375,42673.72571428572,42768.39625000001,42819.91125,42750.58285714287,42760.10875,42632.465,42718.815,42772.92125,42762.29,42703.80250000001,42655.528483642855,42688.935,42790.287142857145,42792.855714285724,42745.15375,42896.17428571428,42937.78428571428,42933.25490686,42974.10869267286,42971.347142857136,42982.91571428572,42983.779999999984,42904.19714285714,42859.38571428572,42839.01280218857,43009.96125],\"type\":\"candlestick\",\"x\":[1632170460,1632170520,1632170580,1632170640,1632170700,1632170760,1632170820,1632170880,1632170940,1632171000,1632171060,1632171120,1632171180,1632171240,1632171300,1632171360,1632171420,1632171480,1632171540,1632171600,1632171660,1632171720,1632171780,1632171840,1632171900,1632171960,1632172020,1632172080,1632172140,1632172200,1632172260,1632172320,1632172380,1632172440,1632172500,1632172560,1632172620,1632172680,1632172740,1632172800,1632172860,1632172920,1632172980,1632173040,1632173100,1632173160,1632173220,1632173280,1632173340,1632173400,1632173460,1632173520,1632173580,1632173640,1632173700,1632173760,1632173820,1632173880,1632173940,1632174000,1632174060,1632174120,1632174180,1632174240,1632174300,1632174360,1632174420,1632174480,1632174540,1632174600,1632174660,1632174720,1632174780,1632174840,1632174900,1632174960,1632175020,1632175080,1632175140,1632175200,1632175260,1632175320,1632175380,1632175440,1632175500,1632175560,1632175620,1632175680,1632175740,1632175800,1632175860,1632175920,1632175980,1632176040,1632176100,1632176160,1632176220,1632176280,1632176340,1632176400,1632176460,1632176520,1632176580,1632176640,1632176700,1632176760,1632176820,1632176880,1632176940,1632177000,1632177060,1632177120,1632177180,1632177240,1632177300,1632177360,1632177420,1632177480,1632177540,1632177600,1632177660,1632177720,1632177780,1632177840,1632177900,1632177960,1632178020,1632178080,1632178140,1632178200,1632178260,1632178320,1632178380,1632178440,1632178500,1632178560,1632178620,1632178680,1632178740,1632178800,1632178860,1632178920,1632178980,1632179040,1632179100,1632179160,1632179220,1632179280,1632179340,1632179400,1632179460,1632179520,1632179580,1632179640,1632179700,1632179760,1632179820,1632179880,1632179940,1632180000,1632180060,1632180120,1632180180,1632180240,1632180300,1632180360,1632180420,1632180480,1632180540,1632180600,1632180660,1632180720,1632180780,1632180840,1632180900,1632180960,1632181020,1632181080,1632181140,1632181200,1632181260,1632181320,1632181380,1632181440,1632181500,1632181560,1632181620,1632181680,1632181740,1632181800,1632181860,1632181920,1632181980,1632182040,1632182100,1632182160,1632182220,1632182280,1632182340,1632182400]}],                        {\"template\":{\"data\":{\"bar\":[{\"error_x\":{\"color\":\"#2a3f5f\"},\"error_y\":{\"color\":\"#2a3f5f\"},\"marker\":{\"line\":{\"color\":\"#E5ECF6\",\"width\":0.5},\"pattern\":{\"fillmode\":\"overlay\",\"size\":10,\"solidity\":0.2}},\"type\":\"bar\"}],\"barpolar\":[{\"marker\":{\"line\":{\"color\":\"#E5ECF6\",\"width\":0.5},\"pattern\":{\"fillmode\":\"overlay\",\"size\":10,\"solidity\":0.2}},\"type\":\"barpolar\"}],\"carpet\":[{\"aaxis\":{\"endlinecolor\":\"#2a3f5f\",\"gridcolor\":\"white\",\"linecolor\":\"white\",\"minorgridcolor\":\"white\",\"startlinecolor\":\"#2a3f5f\"},\"baxis\":{\"endlinecolor\":\"#2a3f5f\",\"gridcolor\":\"white\",\"linecolor\":\"white\",\"minorgridcolor\":\"white\",\"startlinecolor\":\"#2a3f5f\"},\"type\":\"carpet\"}],\"choropleth\":[{\"colorbar\":{\"outlinewidth\":0,\"ticks\":\"\"},\"type\":\"choropleth\"}],\"contour\":[{\"colorbar\":{\"outlinewidth\":0,\"ticks\":\"\"},\"colorscale\":[[0.0,\"#0d0887\"],[0.1111111111111111,\"#46039f\"],[0.2222222222222222,\"#7201a8\"],[0.3333333333333333,\"#9c179e\"],[0.4444444444444444,\"#bd3786\"],[0.5555555555555556,\"#d8576b\"],[0.6666666666666666,\"#ed7953\"],[0.7777777777777778,\"#fb9f3a\"],[0.8888888888888888,\"#fdca26\"],[1.0,\"#f0f921\"]],\"type\":\"contour\"}],\"contourcarpet\":[{\"colorbar\":{\"outlinewidth\":0,\"ticks\":\"\"},\"type\":\"contourcarpet\"}],\"heatmap\":[{\"colorbar\":{\"outlinewidth\":0,\"ticks\":\"\"},\"colorscale\":[[0.0,\"#0d0887\"],[0.1111111111111111,\"#46039f\"],[0.2222222222222222,\"#7201a8\"],[0.3333333333333333,\"#9c179e\"],[0.4444444444444444,\"#bd3786\"],[0.5555555555555556,\"#d8576b\"],[0.6666666666666666,\"#ed7953\"],[0.7777777777777778,\"#fb9f3a\"],[0.8888888888888888,\"#fdca26\"],[1.0,\"#f0f921\"]],\"type\":\"heatmap\"}],\"heatmapgl\":[{\"colorbar\":{\"outlinewidth\":0,\"ticks\":\"\"},\"colorscale\":[[0.0,\"#0d0887\"],[0.1111111111111111,\"#46039f\"],[0.2222222222222222,\"#7201a8\"],[0.3333333333333333,\"#9c179e\"],[0.4444444444444444,\"#bd3786\"],[0.5555555555555556,\"#d8576b\"],[0.6666666666666666,\"#ed7953\"],[0.7777777777777778,\"#fb9f3a\"],[0.8888888888888888,\"#fdca26\"],[1.0,\"#f0f921\"]],\"type\":\"heatmapgl\"}],\"histogram\":[{\"marker\":{\"pattern\":{\"fillmode\":\"overlay\",\"size\":10,\"solidity\":0.2}},\"type\":\"histogram\"}],\"histogram2d\":[{\"colorbar\":{\"outlinewidth\":0,\"ticks\":\"\"},\"colorscale\":[[0.0,\"#0d0887\"],[0.1111111111111111,\"#46039f\"],[0.2222222222222222,\"#7201a8\"],[0.3333333333333333,\"#9c179e\"],[0.4444444444444444,\"#bd3786\"],[0.5555555555555556,\"#d8576b\"],[0.6666666666666666,\"#ed7953\"],[0.7777777777777778,\"#fb9f3a\"],[0.8888888888888888,\"#fdca26\"],[1.0,\"#f0f921\"]],\"type\":\"histogram2d\"}],\"histogram2dcontour\":[{\"colorbar\":{\"outlinewidth\":0,\"ticks\":\"\"},\"colorscale\":[[0.0,\"#0d0887\"],[0.1111111111111111,\"#46039f\"],[0.2222222222222222,\"#7201a8\"],[0.3333333333333333,\"#9c179e\"],[0.4444444444444444,\"#bd3786\"],[0.5555555555555556,\"#d8576b\"],[0.6666666666666666,\"#ed7953\"],[0.7777777777777778,\"#fb9f3a\"],[0.8888888888888888,\"#fdca26\"],[1.0,\"#f0f921\"]],\"type\":\"histogram2dcontour\"}],\"mesh3d\":[{\"colorbar\":{\"outlinewidth\":0,\"ticks\":\"\"},\"type\":\"mesh3d\"}],\"parcoords\":[{\"line\":{\"colorbar\":{\"outlinewidth\":0,\"ticks\":\"\"}},\"type\":\"parcoords\"}],\"pie\":[{\"automargin\":true,\"type\":\"pie\"}],\"scatter\":[{\"marker\":{\"colorbar\":{\"outlinewidth\":0,\"ticks\":\"\"}},\"type\":\"scatter\"}],\"scatter3d\":[{\"line\":{\"colorbar\":{\"outlinewidth\":0,\"ticks\":\"\"}},\"marker\":{\"colorbar\":{\"outlinewidth\":0,\"ticks\":\"\"}},\"type\":\"scatter3d\"}],\"scattercarpet\":[{\"marker\":{\"colorbar\":{\"outlinewidth\":0,\"ticks\":\"\"}},\"type\":\"scattercarpet\"}],\"scattergeo\":[{\"marker\":{\"colorbar\":{\"outlinewidth\":0,\"ticks\":\"\"}},\"type\":\"scattergeo\"}],\"scattergl\":[{\"marker\":{\"colorbar\":{\"outlinewidth\":0,\"ticks\":\"\"}},\"type\":\"scattergl\"}],\"scattermapbox\":[{\"marker\":{\"colorbar\":{\"outlinewidth\":0,\"ticks\":\"\"}},\"type\":\"scattermapbox\"}],\"scatterpolar\":[{\"marker\":{\"colorbar\":{\"outlinewidth\":0,\"ticks\":\"\"}},\"type\":\"scatterpolar\"}],\"scatterpolargl\":[{\"marker\":{\"colorbar\":{\"outlinewidth\":0,\"ticks\":\"\"}},\"type\":\"scatterpolargl\"}],\"scatterternary\":[{\"marker\":{\"colorbar\":{\"outlinewidth\":0,\"ticks\":\"\"}},\"type\":\"scatterternary\"}],\"surface\":[{\"colorbar\":{\"outlinewidth\":0,\"ticks\":\"\"},\"colorscale\":[[0.0,\"#0d0887\"],[0.1111111111111111,\"#46039f\"],[0.2222222222222222,\"#7201a8\"],[0.3333333333333333,\"#9c179e\"],[0.4444444444444444,\"#bd3786\"],[0.5555555555555556,\"#d8576b\"],[0.6666666666666666,\"#ed7953\"],[0.7777777777777778,\"#fb9f3a\"],[0.8888888888888888,\"#fdca26\"],[1.0,\"#f0f921\"]],\"type\":\"surface\"}],\"table\":[{\"cells\":{\"fill\":{\"color\":\"#EBF0F8\"},\"line\":{\"color\":\"white\"}},\"header\":{\"fill\":{\"color\":\"#C8D4E3\"},\"line\":{\"color\":\"white\"}},\"type\":\"table\"}]},\"layout\":{\"annotationdefaults\":{\"arrowcolor\":\"#2a3f5f\",\"arrowhead\":0,\"arrowwidth\":1},\"autotypenumbers\":\"strict\",\"coloraxis\":{\"colorbar\":{\"outlinewidth\":0,\"ticks\":\"\"}},\"colorscale\":{\"diverging\":[[0,\"#8e0152\"],[0.1,\"#c51b7d\"],[0.2,\"#de77ae\"],[0.3,\"#f1b6da\"],[0.4,\"#fde0ef\"],[0.5,\"#f7f7f7\"],[0.6,\"#e6f5d0\"],[0.7,\"#b8e186\"],[0.8,\"#7fbc41\"],[0.9,\"#4d9221\"],[1,\"#276419\"]],\"sequential\":[[0.0,\"#0d0887\"],[0.1111111111111111,\"#46039f\"],[0.2222222222222222,\"#7201a8\"],[0.3333333333333333,\"#9c179e\"],[0.4444444444444444,\"#bd3786\"],[0.5555555555555556,\"#d8576b\"],[0.6666666666666666,\"#ed7953\"],[0.7777777777777778,\"#fb9f3a\"],[0.8888888888888888,\"#fdca26\"],[1.0,\"#f0f921\"]],\"sequentialminus\":[[0.0,\"#0d0887\"],[0.1111111111111111,\"#46039f\"],[0.2222222222222222,\"#7201a8\"],[0.3333333333333333,\"#9c179e\"],[0.4444444444444444,\"#bd3786\"],[0.5555555555555556,\"#d8576b\"],[0.6666666666666666,\"#ed7953\"],[0.7777777777777778,\"#fb9f3a\"],[0.8888888888888888,\"#fdca26\"],[1.0,\"#f0f921\"]]},\"colorway\":[\"#636efa\",\"#EF553B\",\"#00cc96\",\"#ab63fa\",\"#FFA15A\",\"#19d3f3\",\"#FF6692\",\"#B6E880\",\"#FF97FF\",\"#FECB52\"],\"font\":{\"color\":\"#2a3f5f\"},\"geo\":{\"bgcolor\":\"white\",\"lakecolor\":\"white\",\"landcolor\":\"#E5ECF6\",\"showlakes\":true,\"showland\":true,\"subunitcolor\":\"white\"},\"hoverlabel\":{\"align\":\"left\"},\"hovermode\":\"closest\",\"mapbox\":{\"style\":\"light\"},\"paper_bgcolor\":\"white\",\"plot_bgcolor\":\"#E5ECF6\",\"polar\":{\"angularaxis\":{\"gridcolor\":\"white\",\"linecolor\":\"white\",\"ticks\":\"\"},\"bgcolor\":\"#E5ECF6\",\"radialaxis\":{\"gridcolor\":\"white\",\"linecolor\":\"white\",\"ticks\":\"\"}},\"scene\":{\"xaxis\":{\"backgroundcolor\":\"#E5ECF6\",\"gridcolor\":\"white\",\"gridwidth\":2,\"linecolor\":\"white\",\"showbackground\":true,\"ticks\":\"\",\"zerolinecolor\":\"white\"},\"yaxis\":{\"backgroundcolor\":\"#E5ECF6\",\"gridcolor\":\"white\",\"gridwidth\":2,\"linecolor\":\"white\",\"showbackground\":true,\"ticks\":\"\",\"zerolinecolor\":\"white\"},\"zaxis\":{\"backgroundcolor\":\"#E5ECF6\",\"gridcolor\":\"white\",\"gridwidth\":2,\"linecolor\":\"white\",\"showbackground\":true,\"ticks\":\"\",\"zerolinecolor\":\"white\"}},\"shapedefaults\":{\"line\":{\"color\":\"#2a3f5f\"}},\"ternary\":{\"aaxis\":{\"gridcolor\":\"white\",\"linecolor\":\"white\",\"ticks\":\"\"},\"baxis\":{\"gridcolor\":\"white\",\"linecolor\":\"white\",\"ticks\":\"\"},\"bgcolor\":\"#E5ECF6\",\"caxis\":{\"gridcolor\":\"white\",\"linecolor\":\"white\",\"ticks\":\"\"}},\"title\":{\"x\":0.05},\"xaxis\":{\"automargin\":true,\"gridcolor\":\"white\",\"linecolor\":\"white\",\"ticks\":\"\",\"title\":{\"standoff\":15},\"zerolinecolor\":\"white\",\"zerolinewidth\":2},\"yaxis\":{\"automargin\":true,\"gridcolor\":\"white\",\"linecolor\":\"white\",\"ticks\":\"\",\"title\":{\"standoff\":15},\"zerolinecolor\":\"white\",\"zerolinewidth\":2}}}},                        {\"responsive\": true}                    ).then(function(){\n",
       "                            \n",
       "var gd = document.getElementById('f37957cf-3976-4fa6-8512-bf1d69057b0e');\n",
       "var x = new MutationObserver(function (mutations, observer) {{\n",
       "        var display = window.getComputedStyle(gd).display;\n",
       "        if (!display || display === 'none') {{\n",
       "            console.log([gd, 'removed!']);\n",
       "            Plotly.purge(gd);\n",
       "            observer.disconnect();\n",
       "        }}\n",
       "}});\n",
       "\n",
       "// Listen for the removal of the full notebook cells\n",
       "var notebookContainer = gd.closest('#notebook-container');\n",
       "if (notebookContainer) {{\n",
       "    x.observe(notebookContainer, {childList: true});\n",
       "}}\n",
       "\n",
       "// Listen for the clearing of the current output cell\n",
       "var outputEl = gd.closest('.output');\n",
       "if (outputEl) {{\n",
       "    x.observe(outputEl, {childList: true});\n",
       "}}\n",
       "\n",
       "                        })                };                });            </script>        </div>"
      ]
     },
     "metadata": {},
     "output_type": "display_data"
    }
   ],
   "source": [
    "import plotly.graph_objects as go\n",
    "\n",
    "fig = go.Figure(data=[go.Candlestick(x=btc_mini.index, open=btc_mini['Open'], high=btc_mini['High'], low=btc_mini['Low'], close=btc_mini['Close'])])\n",
    "fig.show()"
   ]
  },
  {
   "cell_type": "markdown",
   "id": "144c322e",
   "metadata": {
    "id": "S-oceNYiivUi",
    "papermill": {
     "duration": 0.043755,
     "end_time": "2021-11-03T15:02:57.195006",
     "exception": false,
     "start_time": "2021-11-03T15:02:57.151251",
     "status": "completed"
    },
    "tags": []
   },
   "source": [
    "# Preprocessing"
   ]
  },
  {
   "cell_type": "markdown",
   "id": "6d4c8e4a",
   "metadata": {
    "id": "K9ce7eWddHfM",
    "papermill": {
     "duration": 0.044944,
     "end_time": "2021-11-03T15:02:57.283677",
     "exception": false,
     "start_time": "2021-11-03T15:02:57.238733",
     "status": "completed"
    },
    "tags": []
   },
   "source": [
    "## Dealing with missing data\n"
   ]
  },
  {
   "cell_type": "markdown",
   "id": "40d7f6cd",
   "metadata": {
    "id": "AOpyJzKgFuYb",
    "papermill": {
     "duration": 0.043286,
     "end_time": "2021-11-03T15:02:57.371223",
     "exception": false,
     "start_time": "2021-11-03T15:02:57.327937",
     "status": "completed"
    },
    "tags": []
   },
   "source": [
    "Let us inspect the data for another important asset, Ethereum."
   ]
  },
  {
   "cell_type": "code",
   "execution_count": 8,
   "id": "07b8137b",
   "metadata": {
    "execution": {
     "iopub.execute_input": "2021-11-03T15:02:57.474926Z",
     "iopub.status.busy": "2021-11-03T15:02:57.473817Z",
     "iopub.status.idle": "2021-11-03T15:02:57.801760Z",
     "shell.execute_reply": "2021-11-03T15:02:57.800550Z",
     "shell.execute_reply.started": "2021-11-02T15:59:01.947728Z"
    },
    "id": "cuWT1Suxzjvb",
    "outputId": "04ff726c-8858-4d87-b592-ee1b036f0996",
    "papermill": {
     "duration": 0.386903,
     "end_time": "2021-11-03T15:02:57.801962",
     "exception": false,
     "start_time": "2021-11-03T15:02:57.415059",
     "status": "completed"
    },
    "tags": []
   },
   "outputs": [
    {
     "name": "stdout",
     "output_type": "stream",
     "text": [
      "<class 'pandas.core.frame.DataFrame'>\n",
      "Int64Index: 1956200 entries, 1514764860 to 1632182400\n",
      "Data columns (total 9 columns):\n",
      " #   Column    Non-Null Count    Dtype  \n",
      "---  ------    --------------    -----  \n",
      " 0   Asset_ID  1956200 non-null  int64  \n",
      " 1   Count     1956200 non-null  float64\n",
      " 2   Open      1956200 non-null  float64\n",
      " 3   High      1956200 non-null  float64\n",
      " 4   Low       1956200 non-null  float64\n",
      " 5   Close     1956200 non-null  float64\n",
      " 6   Volume    1956200 non-null  float64\n",
      " 7   VWAP      1956200 non-null  float64\n",
      " 8   Target    1955860 non-null  float64\n",
      "dtypes: float64(8), int64(1)\n",
      "memory usage: 149.2 MB\n"
     ]
    }
   ],
   "source": [
    "eth = crypto_df[crypto_df[\"Asset_ID\"]==6].set_index(\"timestamp\") # Asset_ID = 6 for Ethereum\n",
    "eth.info(show_counts =True)"
   ]
  },
  {
   "cell_type": "markdown",
   "id": "c106645b",
   "metadata": {
    "id": "3qryFWzMgXgo",
    "papermill": {
     "duration": 0.045154,
     "end_time": "2021-11-03T15:02:57.892216",
     "exception": false,
     "start_time": "2021-11-03T15:02:57.847062",
     "status": "completed"
    },
    "tags": []
   },
   "source": [
    "We can see the number of rows in the training set, and that there are missing values for the targets columns, which we will address later. Let's confirm that:\n"
   ]
  },
  {
   "cell_type": "code",
   "execution_count": 9,
   "id": "ccd02541",
   "metadata": {
    "execution": {
     "iopub.execute_input": "2021-11-03T15:02:57.988070Z",
     "iopub.status.busy": "2021-11-03T15:02:57.986812Z",
     "iopub.status.idle": "2021-11-03T15:02:58.025628Z",
     "shell.execute_reply": "2021-11-03T15:02:58.025032Z",
     "shell.execute_reply.started": "2021-11-02T15:59:02.512643Z"
    },
    "id": "0hVTUf1LflPM",
    "outputId": "4c3c1993-1594-44c2-8457-52e94c199a5f",
    "papermill": {
     "duration": 0.08812,
     "end_time": "2021-11-03T15:02:58.025842",
     "exception": false,
     "start_time": "2021-11-03T15:02:57.937722",
     "status": "completed"
    },
    "tags": []
   },
   "outputs": [
    {
     "data": {
      "text/plain": [
       "Asset_ID      0\n",
       "Count         0\n",
       "Open          0\n",
       "High          0\n",
       "Low           0\n",
       "Close         0\n",
       "Volume        0\n",
       "VWAP          0\n",
       "Target      340\n",
       "dtype: int64"
      ]
     },
     "execution_count": 9,
     "metadata": {},
     "output_type": "execute_result"
    }
   ],
   "source": [
    "eth.isna().sum()"
   ]
  },
  {
   "cell_type": "markdown",
   "id": "c848a4fc",
   "metadata": {
    "id": "sJ_CF60EfpQS",
    "papermill": {
     "duration": 0.045555,
     "end_time": "2021-11-03T15:02:58.117539",
     "exception": false,
     "start_time": "2021-11-03T15:02:58.071984",
     "status": "completed"
    },
    "tags": []
   },
   "source": [
    "Let's check the time range for Bitcoin and Ethereum data, using the coversion from timestamp to `datetime`."
   ]
  },
  {
   "cell_type": "code",
   "execution_count": 10,
   "id": "61df3ae9",
   "metadata": {
    "execution": {
     "iopub.execute_input": "2021-11-03T15:02:58.222534Z",
     "iopub.status.busy": "2021-11-03T15:02:58.216024Z",
     "iopub.status.idle": "2021-11-03T15:02:58.225705Z",
     "shell.execute_reply": "2021-11-03T15:02:58.226323Z",
     "shell.execute_reply.started": "2021-11-02T15:59:02.565738Z"
    },
    "papermill": {
     "duration": 0.064701,
     "end_time": "2021-11-03T15:02:58.226511",
     "exception": false,
     "start_time": "2021-11-03T15:02:58.161810",
     "status": "completed"
    },
    "tags": []
   },
   "outputs": [
    {
     "data": {
      "text/html": [
       "<div>\n",
       "<style scoped>\n",
       "    .dataframe tbody tr th:only-of-type {\n",
       "        vertical-align: middle;\n",
       "    }\n",
       "\n",
       "    .dataframe tbody tr th {\n",
       "        vertical-align: top;\n",
       "    }\n",
       "\n",
       "    .dataframe thead th {\n",
       "        text-align: right;\n",
       "    }\n",
       "</style>\n",
       "<table border=\"1\" class=\"dataframe\">\n",
       "  <thead>\n",
       "    <tr style=\"text-align: right;\">\n",
       "      <th></th>\n",
       "      <th>Asset_ID</th>\n",
       "      <th>Count</th>\n",
       "      <th>Open</th>\n",
       "      <th>High</th>\n",
       "      <th>Low</th>\n",
       "      <th>Close</th>\n",
       "      <th>Volume</th>\n",
       "      <th>VWAP</th>\n",
       "      <th>Target</th>\n",
       "    </tr>\n",
       "    <tr>\n",
       "      <th>timestamp</th>\n",
       "      <th></th>\n",
       "      <th></th>\n",
       "      <th></th>\n",
       "      <th></th>\n",
       "      <th></th>\n",
       "      <th></th>\n",
       "      <th></th>\n",
       "      <th></th>\n",
       "      <th></th>\n",
       "    </tr>\n",
       "  </thead>\n",
       "  <tbody>\n",
       "    <tr>\n",
       "      <th>1514764860</th>\n",
       "      <td>1</td>\n",
       "      <td>229.0</td>\n",
       "      <td>13835.194</td>\n",
       "      <td>14013.8</td>\n",
       "      <td>13666.11</td>\n",
       "      <td>13850.176</td>\n",
       "      <td>31.550062</td>\n",
       "      <td>13827.062093</td>\n",
       "      <td>-0.014643</td>\n",
       "    </tr>\n",
       "    <tr>\n",
       "      <th>1514764920</th>\n",
       "      <td>1</td>\n",
       "      <td>235.0</td>\n",
       "      <td>13835.036</td>\n",
       "      <td>14052.3</td>\n",
       "      <td>13680.00</td>\n",
       "      <td>13828.102</td>\n",
       "      <td>31.046432</td>\n",
       "      <td>13840.362591</td>\n",
       "      <td>-0.015037</td>\n",
       "    </tr>\n",
       "    <tr>\n",
       "      <th>1514764980</th>\n",
       "      <td>1</td>\n",
       "      <td>528.0</td>\n",
       "      <td>13823.900</td>\n",
       "      <td>14000.4</td>\n",
       "      <td>13601.00</td>\n",
       "      <td>13801.314</td>\n",
       "      <td>55.061820</td>\n",
       "      <td>13806.068014</td>\n",
       "      <td>-0.010309</td>\n",
       "    </tr>\n",
       "    <tr>\n",
       "      <th>1514765040</th>\n",
       "      <td>1</td>\n",
       "      <td>435.0</td>\n",
       "      <td>13802.512</td>\n",
       "      <td>13999.0</td>\n",
       "      <td>13576.28</td>\n",
       "      <td>13768.040</td>\n",
       "      <td>38.780529</td>\n",
       "      <td>13783.598101</td>\n",
       "      <td>-0.008999</td>\n",
       "    </tr>\n",
       "    <tr>\n",
       "      <th>1514765100</th>\n",
       "      <td>1</td>\n",
       "      <td>742.0</td>\n",
       "      <td>13766.000</td>\n",
       "      <td>13955.9</td>\n",
       "      <td>13554.44</td>\n",
       "      <td>13724.914</td>\n",
       "      <td>108.501637</td>\n",
       "      <td>13735.586842</td>\n",
       "      <td>-0.008079</td>\n",
       "    </tr>\n",
       "  </tbody>\n",
       "</table>\n",
       "</div>"
      ],
      "text/plain": [
       "            Asset_ID  Count       Open     High       Low      Close  \\\n",
       "timestamp                                                              \n",
       "1514764860         1  229.0  13835.194  14013.8  13666.11  13850.176   \n",
       "1514764920         1  235.0  13835.036  14052.3  13680.00  13828.102   \n",
       "1514764980         1  528.0  13823.900  14000.4  13601.00  13801.314   \n",
       "1514765040         1  435.0  13802.512  13999.0  13576.28  13768.040   \n",
       "1514765100         1  742.0  13766.000  13955.9  13554.44  13724.914   \n",
       "\n",
       "                Volume          VWAP    Target  \n",
       "timestamp                                       \n",
       "1514764860   31.550062  13827.062093 -0.014643  \n",
       "1514764920   31.046432  13840.362591 -0.015037  \n",
       "1514764980   55.061820  13806.068014 -0.010309  \n",
       "1514765040   38.780529  13783.598101 -0.008999  \n",
       "1514765100  108.501637  13735.586842 -0.008079  "
      ]
     },
     "execution_count": 10,
     "metadata": {},
     "output_type": "execute_result"
    }
   ],
   "source": [
    "btc.head()"
   ]
  },
  {
   "cell_type": "code",
   "execution_count": 11,
   "id": "a277a122",
   "metadata": {
    "execution": {
     "iopub.execute_input": "2021-11-03T15:02:58.322469Z",
     "iopub.status.busy": "2021-11-03T15:02:58.321449Z",
     "iopub.status.idle": "2021-11-03T15:02:58.329762Z",
     "shell.execute_reply": "2021-11-03T15:02:58.330648Z",
     "shell.execute_reply.started": "2021-11-02T15:59:02.585052Z"
    },
    "id": "YrVaTbdtZ6Qv",
    "outputId": "c640691c-075f-4573-e3a4-ad24ae468f72",
    "papermill": {
     "duration": 0.058199,
     "end_time": "2021-11-03T15:02:58.330877",
     "exception": false,
     "start_time": "2021-11-03T15:02:58.272678",
     "status": "completed"
    },
    "tags": []
   },
   "outputs": [
    {
     "name": "stdout",
     "output_type": "stream",
     "text": [
      "BTC data goes from  2018-01-01T00:01:00 to  2021-09-21T00:00:00\n",
      "Ethereum data goes from  2018-01-01T00:01:00 to  2021-09-21T00:00:00\n"
     ]
    }
   ],
   "source": [
    "beg_btc = btc.index[0].astype('datetime64[s]')\n",
    "end_btc = btc.index[-1].astype('datetime64[s]')\n",
    "beg_eth = eth.index[0].astype('datetime64[s]')\n",
    "end_eth = eth.index[-1].astype('datetime64[s]')\n",
    "\n",
    "print('BTC data goes from ', beg_btc, 'to ', end_btc)\n",
    "print('Ethereum data goes from ', beg_eth, 'to ', end_eth)"
   ]
  },
  {
   "cell_type": "markdown",
   "id": "721bb5a9",
   "metadata": {
    "id": "4PIgY9dtZ7BX",
    "papermill": {
     "duration": 0.044949,
     "end_time": "2021-11-03T15:02:58.422262",
     "exception": false,
     "start_time": "2021-11-03T15:02:58.377313",
     "status": "completed"
    },
    "tags": []
   },
   "source": [
    "Missing asset data, for a given minute, is not represented by NaN's, but instead by the absence of those rows. We can check the timestamp difference between consecutive rows to see if there is missing data."
   ]
  },
  {
   "cell_type": "code",
   "execution_count": 12,
   "id": "a761af98",
   "metadata": {
    "execution": {
     "iopub.execute_input": "2021-11-03T15:02:58.518010Z",
     "iopub.status.busy": "2021-11-03T15:02:58.515984Z",
     "iopub.status.idle": "2021-11-03T15:02:58.540257Z",
     "shell.execute_reply": "2021-11-03T15:02:58.540814Z",
     "shell.execute_reply.started": "2021-11-02T15:59:02.597022Z"
    },
    "id": "KOrD8uIked2c",
    "outputId": "51d9c340-a88c-4476-fdca-cffa8edc5c39",
    "papermill": {
     "duration": 0.073516,
     "end_time": "2021-11-03T15:02:58.540989",
     "exception": false,
     "start_time": "2021-11-03T15:02:58.467473",
     "status": "completed"
    },
    "tags": []
   },
   "outputs": [
    {
     "data": {
      "text/plain": [
       "60     1956043\n",
       "120        100\n",
       "180         23\n",
       "300          5\n",
       "540          4\n",
       "Name: timestamp, dtype: int64"
      ]
     },
     "execution_count": 12,
     "metadata": {},
     "output_type": "execute_result"
    }
   ],
   "source": [
    "(eth.index[1:]-eth.index[:-1]).value_counts().head()"
   ]
  },
  {
   "cell_type": "markdown",
   "id": "7795ab3a",
   "metadata": {
    "id": "GFLjIGONhN9s",
    "papermill": {
     "duration": 0.045396,
     "end_time": "2021-11-03T15:02:58.632350",
     "exception": false,
     "start_time": "2021-11-03T15:02:58.586954",
     "status": "completed"
    },
    "tags": []
   },
   "source": [
    "Notice that there are many gaps in the data. To work with most time series models, we should preprocess our data into a format without time gaps. To fill the gaps, we can use the `.reindex()` method for forward filling, filling gaps with the previous valid value. "
   ]
  },
  {
   "cell_type": "code",
   "execution_count": 13,
   "id": "3a0878a1",
   "metadata": {
    "execution": {
     "iopub.execute_input": "2021-11-03T15:02:58.727752Z",
     "iopub.status.busy": "2021-11-03T15:02:58.726956Z",
     "iopub.status.idle": "2021-11-03T15:02:59.063565Z",
     "shell.execute_reply": "2021-11-03T15:02:59.062859Z",
     "shell.execute_reply.started": "2021-11-02T15:59:02.632063Z"
    },
    "id": "8h29S-1Hhp3Y",
    "papermill": {
     "duration": 0.385183,
     "end_time": "2021-11-03T15:02:59.063714",
     "exception": false,
     "start_time": "2021-11-03T15:02:58.678531",
     "status": "completed"
    },
    "tags": []
   },
   "outputs": [],
   "source": [
    "eth = eth.reindex(range(eth.index[0],eth.index[-1]+60,60),method='pad')"
   ]
  },
  {
   "cell_type": "markdown",
   "id": "0296c268",
   "metadata": {
    "id": "4sX6uvcQiCC5",
    "papermill": {
     "duration": 0.045232,
     "end_time": "2021-11-03T15:02:59.154518",
     "exception": false,
     "start_time": "2021-11-03T15:02:59.109286",
     "status": "completed"
    },
    "tags": []
   },
   "source": [
    "And check that are no time gaps now."
   ]
  },
  {
   "cell_type": "code",
   "execution_count": 14,
   "id": "34681584",
   "metadata": {
    "execution": {
     "iopub.execute_input": "2021-11-03T15:02:59.254169Z",
     "iopub.status.busy": "2021-11-03T15:02:59.252556Z",
     "iopub.status.idle": "2021-11-03T15:02:59.282441Z",
     "shell.execute_reply": "2021-11-03T15:02:59.283074Z",
     "shell.execute_reply.started": "2021-11-02T15:59:03.059077Z"
    },
    "id": "UDUygkngiBKT",
    "outputId": "c9f12e5c-f07d-4063-c35e-2eec6d692438",
    "papermill": {
     "duration": 0.083334,
     "end_time": "2021-11-03T15:02:59.283243",
     "exception": false,
     "start_time": "2021-11-03T15:02:59.199909",
     "status": "completed"
    },
    "tags": []
   },
   "outputs": [
    {
     "data": {
      "text/plain": [
       "60    1956959\n",
       "Name: timestamp, dtype: int64"
      ]
     },
     "execution_count": 14,
     "metadata": {},
     "output_type": "execute_result"
    }
   ],
   "source": [
    "(eth.index[1:]-eth.index[:-1]).value_counts().head()"
   ]
  },
  {
   "cell_type": "markdown",
   "id": "5a2f301e",
   "metadata": {
    "id": "_TcwTqisePHB",
    "papermill": {
     "duration": 0.045241,
     "end_time": "2021-11-03T15:02:59.374308",
     "exception": false,
     "start_time": "2021-11-03T15:02:59.329067",
     "status": "completed"
    },
    "tags": []
   },
   "source": [
    "## Data visualisation\n",
    "\n",
    "We  will start by visualising the Close prices for the two assets we have selected."
   ]
  },
  {
   "cell_type": "code",
   "execution_count": 15,
   "id": "5700433b",
   "metadata": {
    "execution": {
     "iopub.execute_input": "2021-11-03T15:02:59.468884Z",
     "iopub.status.busy": "2021-11-03T15:02:59.468168Z",
     "iopub.status.idle": "2021-11-03T15:03:02.865985Z",
     "shell.execute_reply": "2021-11-03T15:03:02.866547Z",
     "shell.execute_reply.started": "2021-11-02T15:59:03.108708Z"
    },
    "id": "PtVHC0YTxq-l",
    "outputId": "525bc0d9-9673-42d0-ab73-aadc5e6afdad",
    "papermill": {
     "duration": 3.446862,
     "end_time": "2021-11-03T15:03:02.866767",
     "exception": false,
     "start_time": "2021-11-03T15:02:59.419905",
     "status": "completed"
    },
    "tags": []
   },
   "outputs": [
    {
     "data": {
      "image/png": "[encoded data removed]",
      "text/plain": [
       "<Figure size 1080x288 with 2 Axes>"
      ]
     },
     "metadata": {
      "needs_background": "light"
     },
     "output_type": "display_data"
    }
   ],
   "source": [
    "import matplotlib.pyplot as plt\n",
    "\n",
    "# plot vwap time series for both chosen assets\n",
    "f = plt.figure(figsize=(15,4))\n",
    "\n",
    "# fill missing values for BTC\n",
    "btc = btc.reindex(range(btc.index[0],btc.index[-1]+60,60),method='pad')\n",
    "\n",
    "ax = f.add_subplot(121)\n",
    "plt.plot(btc['Close'], label='BTC')\n",
    "plt.legend()\n",
    "plt.xlabel('Time')\n",
    "plt.ylabel('Bitcoin')\n",
    "\n",
    "ax2 = f.add_subplot(122)\n",
    "ax2.plot(eth['Close'], color='red', label='ETH')\n",
    "plt.legend()\n",
    "plt.xlabel('Time')\n",
    "plt.ylabel('Ethereum')\n",
    "\n",
    "plt.tight_layout()\n",
    "plt.show()"
   ]
  },
  {
   "cell_type": "markdown",
   "id": "fda70679",
   "metadata": {
    "id": "ECfuzVHyzEF2",
    "papermill": {
     "duration": 0.050724,
     "end_time": "2021-11-03T15:03:02.968541",
     "exception": false,
     "start_time": "2021-11-03T15:03:02.917817",
     "status": "completed"
    },
    "tags": []
   },
   "source": [
    "The assets have quite different history, but we could check if they correlate in recent times."
   ]
  },
  {
   "cell_type": "code",
   "execution_count": 16,
   "id": "1ed15bfc",
   "metadata": {
    "execution": {
     "iopub.execute_input": "2021-11-03T15:03:03.077719Z",
     "iopub.status.busy": "2021-11-03T15:03:03.076994Z",
     "iopub.status.idle": "2021-11-03T15:03:03.079525Z",
     "shell.execute_reply": "2021-11-03T15:03:03.080135Z",
     "shell.execute_reply.started": "2021-11-02T15:59:06.765943Z"
    },
    "id": "mcfpDT6vNzpT",
    "papermill": {
     "duration": 0.059601,
     "end_time": "2021-11-03T15:03:03.080312",
     "exception": false,
     "start_time": "2021-11-03T15:03:03.020711",
     "status": "completed"
    },
    "tags": []
   },
   "outputs": [],
   "source": [
    "import time\n",
    "\n",
    "# auxiliary function, from datetime to timestamp\n",
    "totimestamp = lambda s: np.int32(time.mktime(datetime.strptime(s, \"%d/%m/%Y\").timetuple()))\n",
    "\n",
    "# create intervals\n",
    "btc_mini_2021 = btc.loc[totimestamp('01/06/2021'):totimestamp('01/07/2021')]\n",
    "eth_mini_2021 = eth.loc[totimestamp('01/06/2021'):totimestamp('01/07/2021')]"
   ]
  },
  {
   "cell_type": "code",
   "execution_count": 17,
   "id": "d153e0c6",
   "metadata": {
    "execution": {
     "iopub.execute_input": "2021-11-03T15:03:03.181782Z",
     "iopub.status.busy": "2021-11-03T15:03:03.181065Z",
     "iopub.status.idle": "2021-11-03T15:03:03.697326Z",
     "shell.execute_reply": "2021-11-03T15:03:03.697884Z",
     "shell.execute_reply.started": "2021-11-02T15:59:06.777562Z"
    },
    "id": "EfZiXb74zQsK",
    "outputId": "5039e885-cb14-487f-fe06-3a30e4cf7270",
    "papermill": {
     "duration": 0.569522,
     "end_time": "2021-11-03T15:03:03.698060",
     "exception": false,
     "start_time": "2021-11-03T15:03:03.128538",
     "status": "completed"
    },
    "tags": []
   },
   "outputs": [
    {
     "data": {
      "image/png": "[encoded data removed]",
      "text/plain": [
       "<Figure size 504x576 with 2 Axes>"
      ]
     },
     "metadata": {
      "needs_background": "light"
     },
     "output_type": "display_data"
    }
   ],
   "source": [
    "# plot time series for both chosen assets\n",
    "f = plt.figure(figsize=(7,8))\n",
    "\n",
    "ax = f.add_subplot(211)\n",
    "plt.plot(btc_mini_2021['Close'], label='btc')\n",
    "plt.legend()\n",
    "plt.xlabel('Time')\n",
    "plt.ylabel('Bitcoin Close')\n",
    "\n",
    "ax2 = f.add_subplot(212)\n",
    "ax2.plot(eth_mini_2021['Close'], color='red', label='eth')\n",
    "plt.legend()\n",
    "plt.xlabel('Time')\n",
    "plt.ylabel('Ethereum Close')\n",
    "\n",
    "plt.tight_layout()\n",
    "plt.show()"
   ]
  },
  {
   "cell_type": "markdown",
   "id": "d2cdddb9",
   "metadata": {
    "id": "O2-jEU3wPnNV",
    "papermill": {
     "duration": 0.04837,
     "end_time": "2021-11-03T15:03:03.795822",
     "exception": false,
     "start_time": "2021-11-03T15:03:03.747452",
     "status": "completed"
    },
    "tags": []
   },
   "source": [
    "On shorter intervals we can visually see some potential correlation between both assets, with some simultaneous ups and downs. A better format for analyzing such movements is by calculating asset returns. "
   ]
  },
  {
   "cell_type": "markdown",
   "id": "118bc9eb",
   "metadata": {
    "id": "6WpWqQ-EReg2",
    "papermill": {
     "duration": 0.04906,
     "end_time": "2021-11-03T15:03:03.894631",
     "exception": false,
     "start_time": "2021-11-03T15:03:03.845571",
     "status": "completed"
    },
    "tags": []
   },
   "source": [
    "## Log returns\n",
    "\n",
    "In order to analyze price changes for an asset we can deal with the price difference. However, different assets exhibit different price scales, so that the their returns are not readily comparable. We can solve this problem by computing the percentage change in price instead, also known as the return. This return coincides with the percentage change in our invested capital.\n",
    "\n",
    "Returns are widely used in finance, however log returns are preferred for mathematical modelling of time series, as they are additive across time. Also, while regular returns cannot go below -100%, log returns are not bounded.\n",
    "\n",
    "To compute the log return, we can simply take the logarithm of the ratio between two consecutive prices. The first row will have an empty return as the previous value is unknown, therefore the empty return data point will be dropped."
   ]
  },
  {
   "cell_type": "code",
   "execution_count": 18,
   "id": "ec0a9350",
   "metadata": {
    "execution": {
     "iopub.execute_input": "2021-11-03T15:03:04.000358Z",
     "iopub.status.busy": "2021-11-03T15:03:03.999668Z",
     "iopub.status.idle": "2021-11-03T15:03:04.001082Z",
     "shell.execute_reply": "2021-11-03T15:03:04.001599Z",
     "shell.execute_reply.started": "2021-11-02T15:59:07.283977Z"
    },
    "id": "DBg185h-SOwI",
    "papermill": {
     "duration": 0.057802,
     "end_time": "2021-11-03T15:03:04.001781",
     "exception": false,
     "start_time": "2021-11-03T15:03:03.943979",
     "status": "completed"
    },
    "tags": []
   },
   "outputs": [],
   "source": [
    "# define function to compute log returns\n",
    "def log_return(series, periods=1):\n",
    "    return np.log(series).diff(periods=periods)"
   ]
  },
  {
   "cell_type": "markdown",
   "id": "a63607e1",
   "metadata": {
    "id": "pdAR2fjIrCge",
    "papermill": {
     "duration": 0.048809,
     "end_time": "2021-11-03T15:03:04.100359",
     "exception": false,
     "start_time": "2021-11-03T15:03:04.051550",
     "status": "completed"
    },
    "tags": []
   },
   "source": [
    "We can visualize the log return for our two assets. See how the signal now looks more like white noise, with less drift than the time series for prices."
   ]
  },
  {
   "cell_type": "code",
   "execution_count": 19,
   "id": "5bc17618",
   "metadata": {
    "execution": {
     "iopub.execute_input": "2021-11-03T15:03:04.201272Z",
     "iopub.status.busy": "2021-11-03T15:03:04.200589Z",
     "iopub.status.idle": "2021-11-03T15:03:05.465382Z",
     "shell.execute_reply": "2021-11-03T15:03:05.464828Z",
     "shell.execute_reply.started": "2021-11-02T15:59:07.292486Z"
    },
    "id": "9WYTbi-LrDOM",
    "outputId": "797d73c3-a320-4376-c1ff-4607a1adea29",
    "papermill": {
     "duration": 1.316225,
     "end_time": "2021-11-03T15:03:05.465546",
     "exception": false,
     "start_time": "2021-11-03T15:03:04.149321",
     "status": "completed"
    },
    "tags": []
   },
   "outputs": [
    {
     "data": {
      "image/png": "[encoded data removed]",
      "text/plain": [
       "<Figure size 576x288 with 1 Axes>"
      ]
     },
     "metadata": {
      "needs_background": "light"
     },
     "output_type": "display_data"
    }
   ],
   "source": [
    "import scipy.stats as stats\n",
    "\n",
    "lret_btc = log_return(btc_mini_2021.Close)[1:]\n",
    "lret_eth = log_return(eth_mini_2021.Close)[1:]\n",
    "lret_btc.rename('lret_btc', inplace=True)\n",
    "lret_eth.rename('lret_eth', inplace=True)\n",
    "\n",
    "plt.figure(figsize=(8,4))\n",
    "plt.plot(lret_btc);\n",
    "plt.plot(lret_eth);\n",
    "plt.show()"
   ]
  },
  {
   "cell_type": "markdown",
   "id": "bb6ae035",
   "metadata": {
    "id": "DnAM1L8dj5ir",
    "papermill": {
     "duration": 0.049456,
     "end_time": "2021-11-03T15:03:05.565048",
     "exception": false,
     "start_time": "2021-11-03T15:03:05.515592",
     "status": "completed"
    },
    "tags": []
   },
   "source": [
    "## Correlation between assets\n",
    "\n",
    "We hypothesized before that crypto asset returns may exhibit some correlation. Let's check this in more detail now.\n",
    "\n",
    "We can check how the correlation between Bitcoin and Ethereum change over time for the 2021 period we selected. "
   ]
  },
  {
   "cell_type": "code",
   "execution_count": 20,
   "id": "57f594bc",
   "metadata": {
    "execution": {
     "iopub.execute_input": "2021-11-03T15:03:05.668132Z",
     "iopub.status.busy": "2021-11-03T15:03:05.667384Z",
     "iopub.status.idle": "2021-11-03T15:03:06.190589Z",
     "shell.execute_reply": "2021-11-03T15:03:06.189315Z",
     "shell.execute_reply.started": "2021-11-02T15:59:08.522888Z"
    },
    "id": "pDB4cVz2u_kC",
    "outputId": "7c483562-4cbd-46a1-d16d-94b3bc69d2c3",
    "papermill": {
     "duration": 0.576027,
     "end_time": "2021-11-03T15:03:06.190756",
     "exception": false,
     "start_time": "2021-11-03T15:03:05.614729",
     "status": "completed"
    },
    "tags": []
   },
   "outputs": [
    {
     "data": {
      "image/png": "[encoded data removed]",
      "text/plain": [
       "<Figure size 432x288 with 1 Axes>"
      ]
     },
     "metadata": {
      "needs_background": "light"
     },
     "output_type": "display_data"
    }
   ],
   "source": [
    "# join two asset in single DataFrame\n",
    "\n",
    "lret_btc_long = log_return(btc.Close)[1:]\n",
    "lret_eth_long = log_return(eth.Close)[1:]\n",
    "lret_btc_long.rename('lret_btc', inplace=True)\n",
    "lret_eth_long.rename('lret_eth', inplace=True)\n",
    "two_assets = pd.concat([lret_btc_long, lret_eth_long], axis=1)\n",
    "\n",
    "# group consecutive rows and use .corr() for correlation between columns\n",
    "corr_time = two_assets.groupby(two_assets.index//(10000*60)).corr().loc[:,\"lret_btc\"].loc[:,\"lret_eth\"]\n",
    "\n",
    "corr_time.plot();\n",
    "plt.xticks([])\n",
    "plt.ylabel(\"Correlation\")\n",
    "plt.title(\"Correlation between BTC and ETH over time\");"
   ]
  },
  {
   "cell_type": "markdown",
   "id": "1d6f7bf0",
   "metadata": {
    "id": "oc7qBUdszXZf",
    "papermill": {
     "duration": 0.05087,
     "end_time": "2021-11-03T15:03:06.294487",
     "exception": false,
     "start_time": "2021-11-03T15:03:06.243617",
     "status": "completed"
    },
    "tags": []
   },
   "source": [
    "Note the high but variable correlation between the assets. Here we can see that there is some changing dynamics over time, and this would be critical for this time series challenge, that is, how to perform forecasts in a highly non-stationary environment.\n",
    "\n",
    "A stationary behaviour of a system or a process is characterized by non-changing statistical properties over time such as the mean, variance and autocorrelation. On the other hand, a non-stationary behaviour is characterized by a continuous change of statistical properties over time. Stationarity is important because many useful analytical tools and statistical tests and models rely on it.\n",
    "\n",
    "We can also check the correlation between all assets visualizing the correlation matrix. Note how some assets have much higher pairwise correlation than others."
   ]
  },
  {
   "cell_type": "code",
   "execution_count": 21,
   "id": "0edd849c",
   "metadata": {
    "execution": {
     "iopub.execute_input": "2021-11-03T15:03:06.402217Z",
     "iopub.status.busy": "2021-11-03T15:03:06.401541Z",
     "iopub.status.idle": "2021-11-03T15:03:11.122014Z",
     "shell.execute_reply": "2021-11-03T15:03:11.121357Z",
     "shell.execute_reply.started": "2021-11-02T15:59:09.123838Z"
    },
    "id": "Dzv6CD3nz57z",
    "papermill": {
     "duration": 4.776611,
     "end_time": "2021-11-03T15:03:11.122173",
     "exception": false,
     "start_time": "2021-11-03T15:03:06.345562",
     "status": "completed"
    },
    "tags": []
   },
   "outputs": [],
   "source": [
    "# create dataframe with returns for all assets\n",
    "all_assets_2021 = pd.DataFrame([])\n",
    "for asset_id, asset_name in zip(asset_details.Asset_ID, asset_details.Asset_Name):\n",
    "  asset = crypto_df[crypto_df[\"Asset_ID\"]==asset_id].set_index(\"timestamp\")\n",
    "  asset = asset.loc[totimestamp('01/01/2021'):totimestamp('01/05/2021')]\n",
    "  asset = asset.reindex(range(asset.index[0],asset.index[-1]+60,60),method='pad')\n",
    "  lret = log_return(asset.Close.fillna(0))[1:]\n",
    "  all_assets_2021 = all_assets_2021.join(lret, rsuffix=asset_name, how=\"outer\")"
   ]
  },
  {
   "cell_type": "code",
   "execution_count": 22,
   "id": "96e8e45f",
   "metadata": {
    "execution": {
     "iopub.execute_input": "2021-11-03T15:03:11.263299Z",
     "iopub.status.busy": "2021-11-03T15:03:11.261565Z",
     "iopub.status.idle": "2021-11-03T15:03:11.780741Z",
     "shell.execute_reply": "2021-11-03T15:03:11.781207Z",
     "shell.execute_reply.started": "2021-11-02T15:59:14.892944Z"
    },
    "papermill": {
     "duration": 0.599999,
     "end_time": "2021-11-03T15:03:11.781378",
     "exception": false,
     "start_time": "2021-11-03T15:03:11.181379",
     "status": "completed"
    },
    "tags": []
   },
   "outputs": [
    {
     "data": {
      "image/png": "[encoded data removed]",
      "text/plain": [
       "<Figure size 432x288 with 2 Axes>"
      ]
     },
     "metadata": {
      "needs_background": "light"
     },
     "output_type": "display_data"
    }
   ],
   "source": [
    "plt.imshow(all_assets_2021.corr());\n",
    "plt.yticks(asset_details.Asset_ID.values, asset_details.Asset_Name.values);\n",
    "plt.xticks(asset_details.Asset_ID.values, asset_details.Asset_Name.values, rotation='vertical');\n",
    "plt.colorbar();"
   ]
  },
  {
   "cell_type": "markdown",
   "id": "908d9484",
   "metadata": {
    "papermill": {
     "duration": 0.052021,
     "end_time": "2021-11-03T15:03:11.885897",
     "exception": false,
     "start_time": "2021-11-03T15:03:11.833876",
     "status": "completed"
    },
    "tags": []
   },
   "source": [
    "We encourage participants to perform additional statistical analyses to have a stronger grasp on the dataset, including autocorrelation, time-series decomposition and stationarity tests."
   ]
  },
  {
   "cell_type": "markdown",
   "id": "2d38abcc",
   "metadata": {
    "id": "EaIGlwUB9kPy",
    "papermill": {
     "duration": 0.051838,
     "end_time": "2021-11-03T15:03:11.990191",
     "exception": false,
     "start_time": "2021-11-03T15:03:11.938353",
     "status": "completed"
    },
    "tags": []
   },
   "source": [
    "# Building your prediction model"
   ]
  },
  {
   "cell_type": "markdown",
   "id": "a0377ad3",
   "metadata": {
    "id": "9Akm2RTz-rOH",
    "papermill": {
     "duration": 0.052121,
     "end_time": "2021-11-03T15:03:12.095213",
     "exception": false,
     "start_time": "2021-11-03T15:03:12.043092",
     "status": "completed"
    },
    "tags": []
   },
   "source": [
    "## Prediction targets and evaluation"
   ]
  },
  {
   "cell_type": "markdown",
   "id": "e80418fe",
   "metadata": {
    "id": "hl29F0dC9mWc",
    "papermill": {
     "duration": 0.058264,
     "end_time": "2021-11-03T15:03:12.206127",
     "exception": false,
     "start_time": "2021-11-03T15:03:12.147863",
     "status": "completed"
    },
    "tags": []
   },
   "source": [
    "This forecasting competition aims to predict returns in the near future for prices $P^a$, for each asset $a$. For each row in the dataset, we include the target for prediction, `Target`. `Target` is derived from log returns ($R^a$) over 15 minutes.\n",
    "\n",
    "$$R^a(t) = log (P^a(t+16)\\ /\\ P^a(t+1))$$\n",
    "\n",
    "Crypto asset returns are highly correlated, following to a large extend the overall crypto market. As we want to test your ability to predict returns for individual assets, we perform a linear residualization, removing the market signal from individual asset returns when creating the target. In more detail, if $M(t)$ is the weighted average market returns, the target is:\n",
    "\n",
    "$$M(t) = \\frac{\\sum_a w^a R^a(t)}{\\sum_a w^a}  \\\\\n",
    "\\beta^a = \\frac{\\langle M \\cdot R^a \\rangle}{\\langle M^2 \\rangle} \\\\\n",
    "\\text{Target}^a(t) = R^a(t) - \\beta^a M(t)$$\n",
    "\n",
    "where the bracket $\\langle .\\rangle$ represent the rolling average over time (3750 minute windows), and same asset weights $w^a$ used for the evaluation metric.\n",
    "\n",
    "Some rows have null values for targets due to missing values in future prices. Rows with nulls in the test set ground truth are ignored for scoring purposes.\n",
    "\n",
    "In the competition, your predictions will be evaluated on a weighted version of the Pearson correlation coefficient, with weights given by the `Weight` column in the Asset Details file.\n",
    "\n",
    "In this tutorial, we will simplify things and use correlation (without weights) for evaluation, and consider only two assets, BTC and ETH."
   ]
  },
  {
   "cell_type": "markdown",
   "id": "2993ace5",
   "metadata": {
    "id": "Motsk80VF7kj",
    "papermill": {
     "duration": 0.051645,
     "end_time": "2021-11-03T15:03:12.310361",
     "exception": false,
     "start_time": "2021-11-03T15:03:12.258716",
     "status": "completed"
    },
    "tags": []
   },
   "source": [
    "## Feature design\n",
    "\n",
    "We first design a few relevant features to input to our model."
   ]
  },
  {
   "cell_type": "code",
   "execution_count": 23,
   "id": "22263f1f",
   "metadata": {
    "execution": {
     "iopub.execute_input": "2021-11-03T15:03:12.418804Z",
     "iopub.status.busy": "2021-11-03T15:03:12.417809Z",
     "iopub.status.idle": "2021-11-03T15:03:12.744801Z",
     "shell.execute_reply": "2021-11-03T15:03:12.744141Z",
     "shell.execute_reply.started": "2021-11-02T15:59:15.410792Z"
    },
    "id": "2kQz1YDeqsch",
    "papermill": {
     "duration": 0.382399,
     "end_time": "2021-11-03T15:03:12.744946",
     "exception": false,
     "start_time": "2021-11-03T15:03:12.362547",
     "status": "completed"
    },
    "tags": []
   },
   "outputs": [],
   "source": [
    "# Select some input features from the trading data: \n",
    "# 5 min log return, abs(5 min log return), upper shadow, and lower shadow.\n",
    "upper_shadow = lambda asset: asset.High - np.maximum(asset.Close,asset.Open)\n",
    "lower_shadow = lambda asset: np.minimum(asset.Close,asset.Open)- asset.Low\n",
    "\n",
    "X_btc = pd.concat([log_return(btc.VWAP,periods=5), log_return(btc.VWAP,periods=1).abs(), \n",
    "               upper_shadow(btc), lower_shadow(btc)], axis=1)\n",
    "y_btc = btc.Target\n",
    "\n",
    "X_eth = pd.concat([log_return(eth.VWAP,periods=5), log_return(eth.VWAP,periods=1).abs(), \n",
    "               upper_shadow(eth), lower_shadow(eth)], axis=1)\n",
    "y_eth = eth.Target"
   ]
  },
  {
   "cell_type": "markdown",
   "id": "5a91f1fa",
   "metadata": {
    "id": "26locv57nOiP",
    "papermill": {
     "duration": 0.051939,
     "end_time": "2021-11-03T15:03:12.848702",
     "exception": false,
     "start_time": "2021-11-03T15:03:12.796763",
     "status": "completed"
    },
    "tags": []
   },
   "source": [
    "## Preparing the data for building predictive models\n",
    "\n",
    "As we will train linear regression parameters, we need to separate training and test sets. To do so, we will compute X and y and split this data into train and test splits. Note that the test split represents a later part of the data, as it is commonly done in time series. "
   ]
  },
  {
   "cell_type": "code",
   "execution_count": 24,
   "id": "f43ff038",
   "metadata": {
    "execution": {
     "iopub.execute_input": "2021-11-03T15:03:12.965300Z",
     "iopub.status.busy": "2021-11-03T15:03:12.964605Z",
     "iopub.status.idle": "2021-11-03T15:03:12.973175Z",
     "shell.execute_reply": "2021-11-03T15:03:12.972615Z",
     "shell.execute_reply.started": "2021-11-02T15:59:15.756359Z"
    },
    "id": "Ud_lz31L7S1x",
    "papermill": {
     "duration": 0.071326,
     "end_time": "2021-11-03T15:03:12.973317",
     "exception": false,
     "start_time": "2021-11-03T15:03:12.901991",
     "status": "completed"
    },
    "tags": []
   },
   "outputs": [],
   "source": [
    "# select training and test periods\n",
    "train_window = [totimestamp(\"01/05/2021\"), totimestamp(\"30/05/2021\")]\n",
    "test_window = [totimestamp(\"01/06/2021\"), totimestamp(\"30/06/2021\")]\n",
    "\n",
    "# divide data into train and test, compute X and y\n",
    "# we aim to build simple regression models using a window_size of 1\n",
    "X_btc_train = X_btc.loc[train_window[0]:train_window[1]].fillna(0).to_numpy()  # filling NaN's with zeros\n",
    "y_btc_train = y_btc.loc[train_window[0]:train_window[1]].fillna(0).to_numpy()  \n",
    "\n",
    "X_btc_test = X_btc.loc[test_window[0]:test_window[1]].fillna(0).to_numpy() \n",
    "y_btc_test = y_btc.loc[test_window[0]:test_window[1]].fillna(0).to_numpy() \n",
    "\n",
    "X_eth_train = X_eth.loc[train_window[0]:train_window[1]].fillna(0).to_numpy()  \n",
    "y_eth_train = y_eth.loc[train_window[0]:train_window[1]].fillna(0).to_numpy()  \n",
    "\n",
    "X_eth_test = X_eth.loc[test_window[0]:test_window[1]].fillna(0).to_numpy() \n",
    "y_eth_test = y_eth.loc[test_window[0]:test_window[1]].fillna(0).to_numpy() "
   ]
  },
  {
   "cell_type": "markdown",
   "id": "ff64caa3",
   "metadata": {
    "id": "iWGNGmX16l28",
    "papermill": {
     "duration": 0.053398,
     "end_time": "2021-11-03T15:03:13.080134",
     "exception": false,
     "start_time": "2021-11-03T15:03:13.026736",
     "status": "completed"
    },
    "tags": []
   },
   "source": [
    "We now standardize the input data. Standardization is the process of putting different variables on the same scale. In regression analysis, it is often crucial to standardize your independent variables or you may risk obtaining misleading results."
   ]
  },
  {
   "cell_type": "code",
   "execution_count": 25,
   "id": "e8049b92",
   "metadata": {
    "execution": {
     "iopub.execute_input": "2021-11-03T15:03:13.191595Z",
     "iopub.status.busy": "2021-11-03T15:03:13.190682Z",
     "iopub.status.idle": "2021-11-03T15:03:13.327896Z",
     "shell.execute_reply": "2021-11-03T15:03:13.328397Z",
     "shell.execute_reply.started": "2021-11-02T15:59:15.774157Z"
    },
    "id": "90LRr1HC8vSH",
    "papermill": {
     "duration": 0.195704,
     "end_time": "2021-11-03T15:03:13.328605",
     "exception": false,
     "start_time": "2021-11-03T15:03:13.132901",
     "status": "completed"
    },
    "tags": []
   },
   "outputs": [],
   "source": [
    "from sklearn.preprocessing import StandardScaler\n",
    "# simple preprocessing of the data \n",
    "scaler = StandardScaler()\n",
    "\n",
    "X_btc_train_scaled = scaler.fit_transform(X_btc_train)\n",
    "X_btc_test_scaled = scaler.transform(X_btc_test)\n",
    "\n",
    "X_eth_train_scaled = scaler.fit_transform(X_eth_train)\n",
    "X_eth_test_scaled = scaler.transform(X_eth_test)"
   ]
  },
  {
   "cell_type": "markdown",
   "id": "9e6074c2",
   "metadata": {
    "id": "lWJwz4t0SqiX",
    "papermill": {
     "duration": 0.051868,
     "end_time": "2021-11-03T15:03:13.433591",
     "exception": false,
     "start_time": "2021-11-03T15:03:13.381723",
     "status": "completed"
    },
    "tags": []
   },
   "source": [
    "## Baseline model: Linear Regression\n",
    "\n",
    "We will try a simple Linear Regression model on the features we designed. Note that Linear Regression is not commonly used in time series analysis, specially with only one time step! \n",
    "\n",
    "We compare two Linear Regression baselines, one that considers each asset independently and one multiple inputs that models all assets together. \n"
   ]
  },
  {
   "cell_type": "code",
   "execution_count": 26,
   "id": "1a7f94f4",
   "metadata": {
    "execution": {
     "iopub.execute_input": "2021-11-03T15:03:13.544262Z",
     "iopub.status.busy": "2021-11-03T15:03:13.543325Z",
     "iopub.status.idle": "2021-11-03T15:03:13.720172Z",
     "shell.execute_reply": "2021-11-03T15:03:13.721045Z",
     "shell.execute_reply.started": "2021-11-02T15:59:15.9258Z"
    },
    "id": "cc-Ntnit9TH5",
    "papermill": {
     "duration": 0.235845,
     "end_time": "2021-11-03T15:03:13.721366",
     "exception": false,
     "start_time": "2021-11-03T15:03:13.485521",
     "status": "completed"
    },
    "tags": []
   },
   "outputs": [],
   "source": [
    "from sklearn.linear_model import LinearRegression\n",
    "\n",
    "# implement basic ML baseline (one per asset)\n",
    "lr = LinearRegression()\n",
    "lr.fit(X_btc_train_scaled,y_btc_train)\n",
    "y_pred_lr_btc = lr.predict(X_btc_test_scaled)\n",
    "\n",
    "lr.fit(X_eth_train_scaled,y_eth_train)\n",
    "y_pred_lr_eth = lr.predict(X_eth_test_scaled)"
   ]
  },
  {
   "cell_type": "code",
   "execution_count": 27,
   "id": "e867aa57",
   "metadata": {
    "execution": {
     "iopub.execute_input": "2021-11-03T15:03:13.888368Z",
     "iopub.status.busy": "2021-11-03T15:03:13.887451Z",
     "iopub.status.idle": "2021-11-03T15:03:13.907813Z",
     "shell.execute_reply": "2021-11-03T15:03:13.908824Z",
     "shell.execute_reply.started": "2021-11-02T15:59:16.088237Z"
    },
    "id": "3_RA5yy3-DOi",
    "papermill": {
     "duration": 0.087627,
     "end_time": "2021-11-03T15:03:13.909104",
     "exception": false,
     "start_time": "2021-11-03T15:03:13.821477",
     "status": "completed"
    },
    "tags": []
   },
   "outputs": [],
   "source": [
    "# implement more complex baseline (multiple output regression model)\n",
    "from sklearn.multioutput import MultiOutputRegressor\n",
    "\n",
    "# we concatenate X and y for both assets\n",
    "X_both_train = np.concatenate((X_btc_train_scaled, X_eth_train_scaled), axis=1)\n",
    "X_both_test = np.concatenate((X_btc_test_scaled, X_eth_test_scaled), axis=1)\n",
    "y_both_train = np.column_stack((y_btc_train, y_eth_train))\n",
    "y_both_test = np.column_stack((y_btc_test, y_eth_test))\n",
    "\n",
    "# define the direct multioutput model and fit it\n",
    "mlr = MultiOutputRegressor(LinearRegression())\n",
    "lr.fit(X_both_train,y_both_train)\n",
    "y_pred_lr_both = lr.predict(X_both_test)"
   ]
  },
  {
   "cell_type": "markdown",
   "id": "f2c7802c",
   "metadata": {
    "id": "4_LbXT3KEdv5",
    "papermill": {
     "duration": 0.060663,
     "end_time": "2021-11-03T15:03:14.067392",
     "exception": false,
     "start_time": "2021-11-03T15:03:14.006729",
     "status": "completed"
    },
    "tags": []
   },
   "source": [
    "## Evaluate baselines\n",
    "\n",
    "The competition performance metric is weighted correlation. However, for now we will use simple correlation to evaluate the two baseline models built."
   ]
  },
  {
   "cell_type": "code",
   "execution_count": 28,
   "id": "a5359a7b",
   "metadata": {
    "execution": {
     "iopub.execute_input": "2021-11-03T15:03:14.178177Z",
     "iopub.status.busy": "2021-11-03T15:03:14.177084Z",
     "iopub.status.idle": "2021-11-03T15:03:14.185959Z",
     "shell.execute_reply": "2021-11-03T15:03:14.185307Z",
     "shell.execute_reply.started": "2021-11-02T15:59:16.13383Z"
    },
    "id": "UhOs6lITEuXC",
    "outputId": "eead03ce-b36e-474a-a13a-42fffc67eac1",
    "papermill": {
     "duration": 0.066499,
     "end_time": "2021-11-03T15:03:14.186114",
     "exception": false,
     "start_time": "2021-11-03T15:03:14.119615",
     "status": "completed"
    },
    "tags": []
   },
   "outputs": [
    {
     "name": "stdout",
     "output_type": "stream",
     "text": [
      "Test score for LR baseline: BTC -0.01 , ETH 0.02\n",
      "Test score for multiple output LR baseline: BTC 0.01 , ETH 0.05\n"
     ]
    }
   ],
   "source": [
    "print('Test score for LR baseline: BTC', f\"{np.corrcoef(y_pred_lr_btc, y_btc_test)[0,1]:.2f}\", \n",
    "                                ', ETH', f\"{np.corrcoef(y_pred_lr_eth, y_eth_test)[0,1]:.2f}\")\n",
    "print('Test score for multiple output LR baseline: BTC', f\"{np.corrcoef(y_pred_lr_both[:,0], y_btc_test)[0,1]:.2f}\", \n",
    "                                                ', ETH', f\"{np.corrcoef(y_pred_lr_both[:,1], y_eth_test)[0,1]:.2f}\")"
   ]
  },
  {
   "cell_type": "markdown",
   "id": "73dfd8cf",
   "metadata": {
    "id": "qzPBu6HUrr9-",
    "papermill": {
     "duration": 0.053291,
     "end_time": "2021-11-03T15:03:14.292030",
     "exception": false,
     "start_time": "2021-11-03T15:03:14.238739",
     "status": "completed"
    },
    "tags": []
   },
   "source": [
    "We can see that, for the training and test periods selected, the multiple asset LR model performs better than simply modelling each asset separately. Note that because the data is highly non-stationary, these results might vary a lot for different periods."
   ]
  },
  {
   "cell_type": "markdown",
   "id": "2ade54fb",
   "metadata": {
    "id": "alEWivyFSY68",
    "papermill": {
     "duration": 0.052864,
     "end_time": "2021-11-03T15:03:14.397520",
     "exception": false,
     "start_time": "2021-11-03T15:03:14.344656",
     "status": "completed"
    },
    "tags": []
   },
   "source": [
    "## Submission\n",
    "\n",
    "Note that this is a Code Competition, in which you must submit your notebook to be run against the hidden private data. Your notebook should use the provided python time-series API, which ensures that models do not peek forward in time. To use the API, follow the instructions and template in [Code Competition Detailed API instructions](https://www.kaggle.com/sohier/detailed-api-introduction) and [Basic Submission Template](https://www.kaggle.com/sohier/basic-submission-template)."
   ]
  }
 ],
 "metadata": {
  "kernelspec": {
   "display_name": "Python 3",
   "language": "python",
   "name": "python3"
  },
  "language_info": {
   "codemirror_mode": {
    "name": "ipython",
    "version": 3
   },
   "file_extension": ".py",
   "mimetype": "text/x-python",
   "name": "python",
   "nbconvert_exporter": "python",
   "pygments_lexer": "ipython3",
   "version": "3.7.10"
  },
  "papermill": {
   "default_parameters": {},
   "duration": 90.858061,
   "end_time": "2021-11-03T15:03:15.261684",
   "environment_variables": {},
   "exception": null,
   "input_path": "__notebook__.ipynb",
   "output_path": "__notebook__.ipynb",
   "parameters": {},
   "start_time": "2021-11-03T15:01:44.403623",
   "version": "2.3.3"
  }
 },
 "nbformat": 4,
 "nbformat_minor": 5
}
